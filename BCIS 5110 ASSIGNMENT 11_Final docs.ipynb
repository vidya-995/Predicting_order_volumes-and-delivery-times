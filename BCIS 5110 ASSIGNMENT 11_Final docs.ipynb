{
 "cells": [
  {
   "cell_type": "markdown",
   "id": "edb5e6f2",
   "metadata": {},
   "source": [
    "## BCIS 5110 Analysis of JD Data"
   ]
  },
  {
   "cell_type": "code",
   "execution_count": 63,
   "id": "6fc2bb24",
   "metadata": {},
   "outputs": [],
   "source": [
    "# This code appears in every demonstration Notebook.\n",
    "# By default, when you run each cell, only the last output of the codes will show.\n",
    "# This code makes all outputs of a cell show.\n",
    "from IPython.core.interactiveshell import InteractiveShell\n",
    "InteractiveShell.ast_node_interactivity = \"all\""
   ]
  },
  {
   "cell_type": "markdown",
   "id": "409e4901",
   "metadata": {},
   "source": [
    "### We will analyze JD Data in the rest of our assignments.\n",
    "The objective: to build models to accurately predict delivery times for customer orders.<br>\n",
    "The data: We need the following tables from the JD.com data<br>\n",
    "        1. Order<br>\n",
    "        2. User<br>\n",
    "        3. Delivery<br>\n",
    "        4. Inventory<br>\n",
    "        5. Network<br>        "
   ]
  },
  {
   "cell_type": "markdown",
   "id": "959c44b9",
   "metadata": {},
   "source": [
    "#### Assignment 8 include Q1 - Q10."
   ]
  },
  {
   "cell_type": "markdown",
   "id": "52749b83",
   "metadata": {},
   "source": [
    "1. Import necessary packages."
   ]
  },
  {
   "cell_type": "code",
   "execution_count": 64,
   "id": "e832a01e",
   "metadata": {},
   "outputs": [],
   "source": [
    "import pandas as pd\n",
    "import numpy as np"
   ]
  },
  {
   "cell_type": "markdown",
   "id": "2169b408",
   "metadata": {},
   "source": [
    "2. Read in the five csv files."
   ]
  },
  {
   "cell_type": "code",
   "execution_count": 65,
   "id": "4c19a50a",
   "metadata": {},
   "outputs": [],
   "source": [
    "order = pd.read_csv(\"JD_order_data.csv\")"
   ]
  },
  {
   "cell_type": "code",
   "execution_count": 66,
   "id": "a25e99f0",
   "metadata": {},
   "outputs": [],
   "source": [
    "user = pd.read_csv(\"JD_user_data.csv\")"
   ]
  },
  {
   "cell_type": "code",
   "execution_count": 67,
   "id": "99e992bc",
   "metadata": {},
   "outputs": [],
   "source": [
    "delivery = pd.read_csv(\"JD_delivery_data.csv\")"
   ]
  },
  {
   "cell_type": "code",
   "execution_count": 68,
   "id": "239639d1",
   "metadata": {},
   "outputs": [],
   "source": [
    "inventory = pd.read_csv(\"JD_inventory_data.csv\")"
   ]
  },
  {
   "cell_type": "code",
   "execution_count": 69,
   "id": "6d90c60a",
   "metadata": {},
   "outputs": [],
   "source": [
    "network = pd.read_csv(\"JD_network_data.csv\")"
   ]
  },
  {
   "cell_type": "markdown",
   "id": "68e999a7",
   "metadata": {},
   "source": [
    "3. Display a sample of each data frame. How many observations? How many columns? What are the column names? (Use code to display such information.)"
   ]
  },
  {
   "cell_type": "code",
   "execution_count": 70,
   "id": "66478200",
   "metadata": {},
   "outputs": [
    {
     "data": {
      "text/html": [
       "<div>\n",
       "<style scoped>\n",
       "    .dataframe tbody tr th:only-of-type {\n",
       "        vertical-align: middle;\n",
       "    }\n",
       "\n",
       "    .dataframe tbody tr th {\n",
       "        vertical-align: top;\n",
       "    }\n",
       "\n",
       "    .dataframe thead th {\n",
       "        text-align: right;\n",
       "    }\n",
       "</style>\n",
       "<table border=\"1\" class=\"dataframe\">\n",
       "  <thead>\n",
       "    <tr style=\"text-align: right;\">\n",
       "      <th></th>\n",
       "      <th>order_ID</th>\n",
       "      <th>user_ID</th>\n",
       "      <th>sku_ID</th>\n",
       "      <th>order_date</th>\n",
       "      <th>order_time</th>\n",
       "      <th>quantity</th>\n",
       "      <th>type</th>\n",
       "      <th>promise</th>\n",
       "      <th>original_unit_price</th>\n",
       "      <th>final_unit_price</th>\n",
       "      <th>direct_discount_per_unit</th>\n",
       "      <th>quantity_discount_per_unit</th>\n",
       "      <th>bundle_discount_per_unit</th>\n",
       "      <th>coupon_discount_per_unit</th>\n",
       "      <th>gift_item</th>\n",
       "      <th>dc_ori</th>\n",
       "      <th>dc_des</th>\n",
       "    </tr>\n",
       "  </thead>\n",
       "  <tbody>\n",
       "    <tr>\n",
       "      <th>0</th>\n",
       "      <td>d0cf5cc6db</td>\n",
       "      <td>0abe9ef2ce</td>\n",
       "      <td>581d5b54c1</td>\n",
       "      <td>2018-03-01</td>\n",
       "      <td>2018-03-01 17:14:25.0</td>\n",
       "      <td>1</td>\n",
       "      <td>2</td>\n",
       "      <td>-</td>\n",
       "      <td>89.0</td>\n",
       "      <td>79.0</td>\n",
       "      <td>0.0</td>\n",
       "      <td>10.0</td>\n",
       "      <td>0.0</td>\n",
       "      <td>0.0</td>\n",
       "      <td>0</td>\n",
       "      <td>4</td>\n",
       "      <td>28</td>\n",
       "    </tr>\n",
       "    <tr>\n",
       "      <th>1</th>\n",
       "      <td>7444318d01</td>\n",
       "      <td>33a9e56257</td>\n",
       "      <td>067b673f2b</td>\n",
       "      <td>2018-03-01</td>\n",
       "      <td>2018-03-01 11:10:40.0</td>\n",
       "      <td>1</td>\n",
       "      <td>1</td>\n",
       "      <td>2</td>\n",
       "      <td>99.9</td>\n",
       "      <td>53.9</td>\n",
       "      <td>5.0</td>\n",
       "      <td>41.0</td>\n",
       "      <td>0.0</td>\n",
       "      <td>0.0</td>\n",
       "      <td>0</td>\n",
       "      <td>28</td>\n",
       "      <td>28</td>\n",
       "    </tr>\n",
       "    <tr>\n",
       "      <th>2</th>\n",
       "      <td>f973b01694</td>\n",
       "      <td>4ea3cf408f</td>\n",
       "      <td>623d0a582a</td>\n",
       "      <td>2018-03-01</td>\n",
       "      <td>2018-03-01 09:13:26.0</td>\n",
       "      <td>1</td>\n",
       "      <td>1</td>\n",
       "      <td>2</td>\n",
       "      <td>78.0</td>\n",
       "      <td>58.5</td>\n",
       "      <td>19.5</td>\n",
       "      <td>0.0</td>\n",
       "      <td>0.0</td>\n",
       "      <td>0.0</td>\n",
       "      <td>0</td>\n",
       "      <td>28</td>\n",
       "      <td>28</td>\n",
       "    </tr>\n",
       "    <tr>\n",
       "      <th>3</th>\n",
       "      <td>8c1cec8d4b</td>\n",
       "      <td>b87cb736cb</td>\n",
       "      <td>fc5289b139</td>\n",
       "      <td>2018-03-01</td>\n",
       "      <td>2018-03-01 21:29:50.0</td>\n",
       "      <td>1</td>\n",
       "      <td>1</td>\n",
       "      <td>2</td>\n",
       "      <td>61.0</td>\n",
       "      <td>35.0</td>\n",
       "      <td>0.0</td>\n",
       "      <td>26.0</td>\n",
       "      <td>0.0</td>\n",
       "      <td>0.0</td>\n",
       "      <td>0</td>\n",
       "      <td>4</td>\n",
       "      <td>28</td>\n",
       "    </tr>\n",
       "    <tr>\n",
       "      <th>4</th>\n",
       "      <td>d43a33c38a</td>\n",
       "      <td>4829223b6f</td>\n",
       "      <td>623d0a582a</td>\n",
       "      <td>2018-03-01</td>\n",
       "      <td>2018-03-01 19:13:37.0</td>\n",
       "      <td>1</td>\n",
       "      <td>1</td>\n",
       "      <td>1</td>\n",
       "      <td>78.0</td>\n",
       "      <td>53.0</td>\n",
       "      <td>19.0</td>\n",
       "      <td>0.0</td>\n",
       "      <td>0.0</td>\n",
       "      <td>6.0</td>\n",
       "      <td>0</td>\n",
       "      <td>3</td>\n",
       "      <td>16</td>\n",
       "    </tr>\n",
       "  </tbody>\n",
       "</table>\n",
       "</div>"
      ],
      "text/plain": [
       "     order_ID     user_ID      sku_ID  order_date             order_time  \\\n",
       "0  d0cf5cc6db  0abe9ef2ce  581d5b54c1  2018-03-01  2018-03-01 17:14:25.0   \n",
       "1  7444318d01  33a9e56257  067b673f2b  2018-03-01  2018-03-01 11:10:40.0   \n",
       "2  f973b01694  4ea3cf408f  623d0a582a  2018-03-01  2018-03-01 09:13:26.0   \n",
       "3  8c1cec8d4b  b87cb736cb  fc5289b139  2018-03-01  2018-03-01 21:29:50.0   \n",
       "4  d43a33c38a  4829223b6f  623d0a582a  2018-03-01  2018-03-01 19:13:37.0   \n",
       "\n",
       "   quantity  type promise  original_unit_price  final_unit_price  \\\n",
       "0         1     2       -                 89.0              79.0   \n",
       "1         1     1       2                 99.9              53.9   \n",
       "2         1     1       2                 78.0              58.5   \n",
       "3         1     1       2                 61.0              35.0   \n",
       "4         1     1       1                 78.0              53.0   \n",
       "\n",
       "   direct_discount_per_unit  quantity_discount_per_unit  \\\n",
       "0                       0.0                        10.0   \n",
       "1                       5.0                        41.0   \n",
       "2                      19.5                         0.0   \n",
       "3                       0.0                        26.0   \n",
       "4                      19.0                         0.0   \n",
       "\n",
       "   bundle_discount_per_unit  coupon_discount_per_unit  gift_item  dc_ori  \\\n",
       "0                       0.0                       0.0          0       4   \n",
       "1                       0.0                       0.0          0      28   \n",
       "2                       0.0                       0.0          0      28   \n",
       "3                       0.0                       0.0          0       4   \n",
       "4                       0.0                       6.0          0       3   \n",
       "\n",
       "   dc_des  \n",
       "0      28  \n",
       "1      28  \n",
       "2      28  \n",
       "3      28  \n",
       "4      16  "
      ]
     },
     "execution_count": 70,
     "metadata": {},
     "output_type": "execute_result"
    }
   ],
   "source": [
    "order.head()"
   ]
  },
  {
   "cell_type": "code",
   "execution_count": 71,
   "id": "15a16c8b",
   "metadata": {},
   "outputs": [
    {
     "name": "stdout",
     "output_type": "stream",
     "text": [
      "<class 'pandas.core.frame.DataFrame'>\n",
      "RangeIndex: 549989 entries, 0 to 549988\n",
      "Data columns (total 17 columns):\n",
      " #   Column                      Non-Null Count   Dtype  \n",
      "---  ------                      --------------   -----  \n",
      " 0   order_ID                    549989 non-null  object \n",
      " 1   user_ID                     549989 non-null  object \n",
      " 2   sku_ID                      549989 non-null  object \n",
      " 3   order_date                  549989 non-null  object \n",
      " 4   order_time                  549989 non-null  object \n",
      " 5   quantity                    549989 non-null  int64  \n",
      " 6   type                        549989 non-null  int64  \n",
      " 7   promise                     549989 non-null  object \n",
      " 8   original_unit_price         549989 non-null  float64\n",
      " 9   final_unit_price            549989 non-null  float64\n",
      " 10  direct_discount_per_unit    549989 non-null  float64\n",
      " 11  quantity_discount_per_unit  549989 non-null  float64\n",
      " 12  bundle_discount_per_unit    549989 non-null  float64\n",
      " 13  coupon_discount_per_unit    549989 non-null  float64\n",
      " 14  gift_item                   549989 non-null  int64  \n",
      " 15  dc_ori                      549989 non-null  int64  \n",
      " 16  dc_des                      549989 non-null  int64  \n",
      "dtypes: float64(6), int64(5), object(6)\n",
      "memory usage: 71.3+ MB\n"
     ]
    }
   ],
   "source": [
    "order.info()"
   ]
  },
  {
   "cell_type": "code",
   "execution_count": 72,
   "id": "e795cb25",
   "metadata": {},
   "outputs": [
    {
     "data": {
      "text/plain": [
       "Index(['order_ID', 'user_ID', 'sku_ID', 'order_date', 'order_time', 'quantity',\n",
       "       'type', 'promise', 'original_unit_price', 'final_unit_price',\n",
       "       'direct_discount_per_unit', 'quantity_discount_per_unit',\n",
       "       'bundle_discount_per_unit', 'coupon_discount_per_unit', 'gift_item',\n",
       "       'dc_ori', 'dc_des'],\n",
       "      dtype='object')"
      ]
     },
     "execution_count": 72,
     "metadata": {},
     "output_type": "execute_result"
    }
   ],
   "source": [
    "order.columns"
   ]
  },
  {
   "cell_type": "code",
   "execution_count": 73,
   "id": "823da916",
   "metadata": {},
   "outputs": [
    {
     "data": {
      "text/html": [
       "<div>\n",
       "<style scoped>\n",
       "    .dataframe tbody tr th:only-of-type {\n",
       "        vertical-align: middle;\n",
       "    }\n",
       "\n",
       "    .dataframe tbody tr th {\n",
       "        vertical-align: top;\n",
       "    }\n",
       "\n",
       "    .dataframe thead th {\n",
       "        text-align: right;\n",
       "    }\n",
       "</style>\n",
       "<table border=\"1\" class=\"dataframe\">\n",
       "  <thead>\n",
       "    <tr style=\"text-align: right;\">\n",
       "      <th></th>\n",
       "      <th>user_ID</th>\n",
       "      <th>user_level</th>\n",
       "      <th>first_order_month</th>\n",
       "      <th>plus</th>\n",
       "      <th>gender</th>\n",
       "      <th>age</th>\n",
       "      <th>marital_status</th>\n",
       "      <th>education</th>\n",
       "      <th>city_level</th>\n",
       "      <th>purchase_power</th>\n",
       "    </tr>\n",
       "  </thead>\n",
       "  <tbody>\n",
       "    <tr>\n",
       "      <th>0</th>\n",
       "      <td>000089d6a6</td>\n",
       "      <td>1</td>\n",
       "      <td>2017-08</td>\n",
       "      <td>0</td>\n",
       "      <td>F</td>\n",
       "      <td>26-35</td>\n",
       "      <td>S</td>\n",
       "      <td>3</td>\n",
       "      <td>4</td>\n",
       "      <td>3</td>\n",
       "    </tr>\n",
       "    <tr>\n",
       "      <th>1</th>\n",
       "      <td>0000babd1f</td>\n",
       "      <td>1</td>\n",
       "      <td>2018-03</td>\n",
       "      <td>0</td>\n",
       "      <td>U</td>\n",
       "      <td>U</td>\n",
       "      <td>U</td>\n",
       "      <td>-1</td>\n",
       "      <td>-1</td>\n",
       "      <td>-1</td>\n",
       "    </tr>\n",
       "    <tr>\n",
       "      <th>2</th>\n",
       "      <td>0000bc018b</td>\n",
       "      <td>3</td>\n",
       "      <td>2016-06</td>\n",
       "      <td>0</td>\n",
       "      <td>F</td>\n",
       "      <td>&gt;=56</td>\n",
       "      <td>M</td>\n",
       "      <td>3</td>\n",
       "      <td>2</td>\n",
       "      <td>3</td>\n",
       "    </tr>\n",
       "    <tr>\n",
       "      <th>3</th>\n",
       "      <td>0000d0e5ab</td>\n",
       "      <td>3</td>\n",
       "      <td>2014-06</td>\n",
       "      <td>0</td>\n",
       "      <td>M</td>\n",
       "      <td>26-35</td>\n",
       "      <td>M</td>\n",
       "      <td>3</td>\n",
       "      <td>2</td>\n",
       "      <td>2</td>\n",
       "    </tr>\n",
       "    <tr>\n",
       "      <th>4</th>\n",
       "      <td>0000dce472</td>\n",
       "      <td>3</td>\n",
       "      <td>2012-08</td>\n",
       "      <td>1</td>\n",
       "      <td>U</td>\n",
       "      <td>U</td>\n",
       "      <td>U</td>\n",
       "      <td>-1</td>\n",
       "      <td>-1</td>\n",
       "      <td>-1</td>\n",
       "    </tr>\n",
       "  </tbody>\n",
       "</table>\n",
       "</div>"
      ],
      "text/plain": [
       "      user_ID  user_level first_order_month  plus gender    age  \\\n",
       "0  000089d6a6           1           2017-08     0      F  26-35   \n",
       "1  0000babd1f           1           2018-03     0      U      U   \n",
       "2  0000bc018b           3           2016-06     0      F   >=56   \n",
       "3  0000d0e5ab           3           2014-06     0      M  26-35   \n",
       "4  0000dce472           3           2012-08     1      U      U   \n",
       "\n",
       "  marital_status  education  city_level  purchase_power  \n",
       "0              S          3           4               3  \n",
       "1              U         -1          -1              -1  \n",
       "2              M          3           2               3  \n",
       "3              M          3           2               2  \n",
       "4              U         -1          -1              -1  "
      ]
     },
     "execution_count": 73,
     "metadata": {},
     "output_type": "execute_result"
    }
   ],
   "source": [
    "user.head()"
   ]
  },
  {
   "cell_type": "code",
   "execution_count": 74,
   "id": "fd2bfd43",
   "metadata": {},
   "outputs": [
    {
     "name": "stdout",
     "output_type": "stream",
     "text": [
      "<class 'pandas.core.frame.DataFrame'>\n",
      "RangeIndex: 457298 entries, 0 to 457297\n",
      "Data columns (total 10 columns):\n",
      " #   Column             Non-Null Count   Dtype \n",
      "---  ------             --------------   ----- \n",
      " 0   user_ID            457298 non-null  object\n",
      " 1   user_level         457298 non-null  int64 \n",
      " 2   first_order_month  457298 non-null  object\n",
      " 3   plus               457298 non-null  int64 \n",
      " 4   gender             457298 non-null  object\n",
      " 5   age                457298 non-null  object\n",
      " 6   marital_status     457298 non-null  object\n",
      " 7   education          457298 non-null  int64 \n",
      " 8   city_level         457298 non-null  int64 \n",
      " 9   purchase_power     457298 non-null  int64 \n",
      "dtypes: int64(5), object(5)\n",
      "memory usage: 34.9+ MB\n"
     ]
    }
   ],
   "source": [
    "user.info()"
   ]
  },
  {
   "cell_type": "code",
   "execution_count": 75,
   "id": "82433011",
   "metadata": {},
   "outputs": [
    {
     "data": {
      "text/plain": [
       "Index(['user_ID', 'user_level', 'first_order_month', 'plus', 'gender', 'age',\n",
       "       'marital_status', 'education', 'city_level', 'purchase_power'],\n",
       "      dtype='object')"
      ]
     },
     "execution_count": 75,
     "metadata": {},
     "output_type": "execute_result"
    }
   ],
   "source": [
    "user.columns"
   ]
  },
  {
   "cell_type": "code",
   "execution_count": 76,
   "id": "bde27aab",
   "metadata": {},
   "outputs": [
    {
     "data": {
      "text/html": [
       "<div>\n",
       "<style scoped>\n",
       "    .dataframe tbody tr th:only-of-type {\n",
       "        vertical-align: middle;\n",
       "    }\n",
       "\n",
       "    .dataframe tbody tr th {\n",
       "        vertical-align: top;\n",
       "    }\n",
       "\n",
       "    .dataframe thead th {\n",
       "        text-align: right;\n",
       "    }\n",
       "</style>\n",
       "<table border=\"1\" class=\"dataframe\">\n",
       "  <thead>\n",
       "    <tr style=\"text-align: right;\">\n",
       "      <th></th>\n",
       "      <th>package_ID</th>\n",
       "      <th>order_ID</th>\n",
       "      <th>type</th>\n",
       "      <th>ship_out_time</th>\n",
       "      <th>arr_station_time</th>\n",
       "      <th>arr_time</th>\n",
       "    </tr>\n",
       "  </thead>\n",
       "  <tbody>\n",
       "    <tr>\n",
       "      <th>0</th>\n",
       "      <td>dc3d6d2258</td>\n",
       "      <td>dc3d6d2258</td>\n",
       "      <td>1</td>\n",
       "      <td>2018-03-01 08:00:00</td>\n",
       "      <td>2018-03-01 15:00:00</td>\n",
       "      <td>2018-03-01 18:00:00</td>\n",
       "    </tr>\n",
       "    <tr>\n",
       "      <th>1</th>\n",
       "      <td>19802a570c</td>\n",
       "      <td>19802a570c</td>\n",
       "      <td>1</td>\n",
       "      <td>2018-03-01 10:00:00</td>\n",
       "      <td>2018-03-01 15:00:00</td>\n",
       "      <td>2018-03-01 17:00:00</td>\n",
       "    </tr>\n",
       "    <tr>\n",
       "      <th>2</th>\n",
       "      <td>e22627af66</td>\n",
       "      <td>e22627af66</td>\n",
       "      <td>1</td>\n",
       "      <td>2018-03-01 11:00:00</td>\n",
       "      <td>2018-03-01 15:00:00</td>\n",
       "      <td>2018-03-01 17:00:00</td>\n",
       "    </tr>\n",
       "    <tr>\n",
       "      <th>3</th>\n",
       "      <td>50d11a586d</td>\n",
       "      <td>50d11a586d</td>\n",
       "      <td>1</td>\n",
       "      <td>2018-03-01 10:00:00</td>\n",
       "      <td>2018-03-01 16:00:00</td>\n",
       "      <td>2018-03-01 19:00:00</td>\n",
       "    </tr>\n",
       "    <tr>\n",
       "      <th>4</th>\n",
       "      <td>a3bfe38bf4</td>\n",
       "      <td>a3bfe38bf4</td>\n",
       "      <td>1</td>\n",
       "      <td>2018-03-01 11:00:00</td>\n",
       "      <td>2018-03-01 16:00:00</td>\n",
       "      <td>2018-03-01 17:00:00</td>\n",
       "    </tr>\n",
       "  </tbody>\n",
       "</table>\n",
       "</div>"
      ],
      "text/plain": [
       "   package_ID    order_ID  type        ship_out_time     arr_station_time  \\\n",
       "0  dc3d6d2258  dc3d6d2258     1  2018-03-01 08:00:00  2018-03-01 15:00:00   \n",
       "1  19802a570c  19802a570c     1  2018-03-01 10:00:00  2018-03-01 15:00:00   \n",
       "2  e22627af66  e22627af66     1  2018-03-01 11:00:00  2018-03-01 15:00:00   \n",
       "3  50d11a586d  50d11a586d     1  2018-03-01 10:00:00  2018-03-01 16:00:00   \n",
       "4  a3bfe38bf4  a3bfe38bf4     1  2018-03-01 11:00:00  2018-03-01 16:00:00   \n",
       "\n",
       "              arr_time  \n",
       "0  2018-03-01 18:00:00  \n",
       "1  2018-03-01 17:00:00  \n",
       "2  2018-03-01 17:00:00  \n",
       "3  2018-03-01 19:00:00  \n",
       "4  2018-03-01 17:00:00  "
      ]
     },
     "execution_count": 76,
     "metadata": {},
     "output_type": "execute_result"
    }
   ],
   "source": [
    "delivery.head()"
   ]
  },
  {
   "cell_type": "code",
   "execution_count": 77,
   "id": "b81365ef",
   "metadata": {},
   "outputs": [
    {
     "name": "stdout",
     "output_type": "stream",
     "text": [
      "<class 'pandas.core.frame.DataFrame'>\n",
      "RangeIndex: 293229 entries, 0 to 293228\n",
      "Data columns (total 6 columns):\n",
      " #   Column            Non-Null Count   Dtype \n",
      "---  ------            --------------   ----- \n",
      " 0   package_ID        293229 non-null  object\n",
      " 1   order_ID          293229 non-null  object\n",
      " 2   type              293229 non-null  int64 \n",
      " 3   ship_out_time     293229 non-null  object\n",
      " 4   arr_station_time  293229 non-null  object\n",
      " 5   arr_time          293229 non-null  object\n",
      "dtypes: int64(1), object(5)\n",
      "memory usage: 13.4+ MB\n"
     ]
    }
   ],
   "source": [
    "delivery.info()"
   ]
  },
  {
   "cell_type": "code",
   "execution_count": 78,
   "id": "3bfd8d35",
   "metadata": {},
   "outputs": [
    {
     "data": {
      "text/plain": [
       "Index(['package_ID', 'order_ID', 'type', 'ship_out_time', 'arr_station_time',\n",
       "       'arr_time'],\n",
       "      dtype='object')"
      ]
     },
     "execution_count": 78,
     "metadata": {},
     "output_type": "execute_result"
    }
   ],
   "source": [
    "delivery.columns"
   ]
  },
  {
   "cell_type": "code",
   "execution_count": 79,
   "id": "dea5eecf",
   "metadata": {},
   "outputs": [
    {
     "data": {
      "text/html": [
       "<div>\n",
       "<style scoped>\n",
       "    .dataframe tbody tr th:only-of-type {\n",
       "        vertical-align: middle;\n",
       "    }\n",
       "\n",
       "    .dataframe tbody tr th {\n",
       "        vertical-align: top;\n",
       "    }\n",
       "\n",
       "    .dataframe thead th {\n",
       "        text-align: right;\n",
       "    }\n",
       "</style>\n",
       "<table border=\"1\" class=\"dataframe\">\n",
       "  <thead>\n",
       "    <tr style=\"text-align: right;\">\n",
       "      <th></th>\n",
       "      <th>dc_ID</th>\n",
       "      <th>sku_ID</th>\n",
       "      <th>date</th>\n",
       "    </tr>\n",
       "  </thead>\n",
       "  <tbody>\n",
       "    <tr>\n",
       "      <th>0</th>\n",
       "      <td>9</td>\n",
       "      <td>50f6f91962</td>\n",
       "      <td>2018-03-01</td>\n",
       "    </tr>\n",
       "    <tr>\n",
       "      <th>1</th>\n",
       "      <td>9</td>\n",
       "      <td>7f0ddbcdde</td>\n",
       "      <td>2018-03-01</td>\n",
       "    </tr>\n",
       "    <tr>\n",
       "      <th>2</th>\n",
       "      <td>9</td>\n",
       "      <td>8ad5789d74</td>\n",
       "      <td>2018-03-01</td>\n",
       "    </tr>\n",
       "    <tr>\n",
       "      <th>3</th>\n",
       "      <td>9</td>\n",
       "      <td>468d34eda4</td>\n",
       "      <td>2018-03-01</td>\n",
       "    </tr>\n",
       "    <tr>\n",
       "      <th>4</th>\n",
       "      <td>9</td>\n",
       "      <td>460afaddb6</td>\n",
       "      <td>2018-03-01</td>\n",
       "    </tr>\n",
       "  </tbody>\n",
       "</table>\n",
       "</div>"
      ],
      "text/plain": [
       "   dc_ID      sku_ID        date\n",
       "0      9  50f6f91962  2018-03-01\n",
       "1      9  7f0ddbcdde  2018-03-01\n",
       "2      9  8ad5789d74  2018-03-01\n",
       "3      9  468d34eda4  2018-03-01\n",
       "4      9  460afaddb6  2018-03-01"
      ]
     },
     "execution_count": 79,
     "metadata": {},
     "output_type": "execute_result"
    }
   ],
   "source": [
    "inventory.head()"
   ]
  },
  {
   "cell_type": "code",
   "execution_count": 80,
   "id": "e7a4ffd5",
   "metadata": {},
   "outputs": [
    {
     "name": "stdout",
     "output_type": "stream",
     "text": [
      "<class 'pandas.core.frame.DataFrame'>\n",
      "RangeIndex: 136079 entries, 0 to 136078\n",
      "Data columns (total 3 columns):\n",
      " #   Column  Non-Null Count   Dtype \n",
      "---  ------  --------------   ----- \n",
      " 0   dc_ID   136079 non-null  int64 \n",
      " 1   sku_ID  136079 non-null  object\n",
      " 2   date    136079 non-null  object\n",
      "dtypes: int64(1), object(2)\n",
      "memory usage: 3.1+ MB\n"
     ]
    }
   ],
   "source": [
    "inventory.info()"
   ]
  },
  {
   "cell_type": "code",
   "execution_count": 81,
   "id": "56d8e005",
   "metadata": {},
   "outputs": [
    {
     "data": {
      "text/plain": [
       "Index(['dc_ID', 'sku_ID', 'date'], dtype='object')"
      ]
     },
     "execution_count": 81,
     "metadata": {},
     "output_type": "execute_result"
    }
   ],
   "source": [
    "inventory.columns"
   ]
  },
  {
   "cell_type": "code",
   "execution_count": 82,
   "id": "64692e33",
   "metadata": {},
   "outputs": [
    {
     "data": {
      "text/html": [
       "<div>\n",
       "<style scoped>\n",
       "    .dataframe tbody tr th:only-of-type {\n",
       "        vertical-align: middle;\n",
       "    }\n",
       "\n",
       "    .dataframe tbody tr th {\n",
       "        vertical-align: top;\n",
       "    }\n",
       "\n",
       "    .dataframe thead th {\n",
       "        text-align: right;\n",
       "    }\n",
       "</style>\n",
       "<table border=\"1\" class=\"dataframe\">\n",
       "  <thead>\n",
       "    <tr style=\"text-align: right;\">\n",
       "      <th></th>\n",
       "      <th>region_ID</th>\n",
       "      <th>dc_ID</th>\n",
       "    </tr>\n",
       "  </thead>\n",
       "  <tbody>\n",
       "    <tr>\n",
       "      <th>0</th>\n",
       "      <td>2</td>\n",
       "      <td>57</td>\n",
       "    </tr>\n",
       "    <tr>\n",
       "      <th>1</th>\n",
       "      <td>2</td>\n",
       "      <td>43</td>\n",
       "    </tr>\n",
       "    <tr>\n",
       "      <th>2</th>\n",
       "      <td>2</td>\n",
       "      <td>42</td>\n",
       "    </tr>\n",
       "    <tr>\n",
       "      <th>3</th>\n",
       "      <td>2</td>\n",
       "      <td>66</td>\n",
       "    </tr>\n",
       "    <tr>\n",
       "      <th>4</th>\n",
       "      <td>2</td>\n",
       "      <td>20</td>\n",
       "    </tr>\n",
       "  </tbody>\n",
       "</table>\n",
       "</div>"
      ],
      "text/plain": [
       "   region_ID  dc_ID\n",
       "0          2     57\n",
       "1          2     43\n",
       "2          2     42\n",
       "3          2     66\n",
       "4          2     20"
      ]
     },
     "execution_count": 82,
     "metadata": {},
     "output_type": "execute_result"
    }
   ],
   "source": [
    "network.head()"
   ]
  },
  {
   "cell_type": "code",
   "execution_count": 83,
   "id": "37652685",
   "metadata": {},
   "outputs": [
    {
     "name": "stdout",
     "output_type": "stream",
     "text": [
      "<class 'pandas.core.frame.DataFrame'>\n",
      "RangeIndex: 56 entries, 0 to 55\n",
      "Data columns (total 2 columns):\n",
      " #   Column     Non-Null Count  Dtype\n",
      "---  ------     --------------  -----\n",
      " 0   region_ID  56 non-null     int64\n",
      " 1   dc_ID      56 non-null     int64\n",
      "dtypes: int64(2)\n",
      "memory usage: 1.0 KB\n"
     ]
    }
   ],
   "source": [
    "network.info()"
   ]
  },
  {
   "cell_type": "code",
   "execution_count": 84,
   "id": "04ebd335",
   "metadata": {},
   "outputs": [
    {
     "data": {
      "text/plain": [
       "Index(['region_ID', 'dc_ID'], dtype='object')"
      ]
     },
     "execution_count": 84,
     "metadata": {},
     "output_type": "execute_result"
    }
   ],
   "source": [
    "network.columns"
   ]
  },
  {
   "cell_type": "markdown",
   "id": "740303fd",
   "metadata": {},
   "source": [
    "4. Check for missing values of columns of each dataframe. You can use sum() (instead of any()) to find out the number of missing values. Which variables have missing values?"
   ]
  },
  {
   "cell_type": "code",
   "execution_count": 85,
   "id": "7c36b60a",
   "metadata": {
    "scrolled": true
   },
   "outputs": [
    {
     "name": "stdout",
     "output_type": "stream",
     "text": [
      "order_ID                           0\n",
      "user_ID                            0\n",
      "sku_ID                             0\n",
      "order_date                         0\n",
      "order_time                         0\n",
      "quantity                           0\n",
      "type                               0\n",
      "promise                       208583\n",
      "original_unit_price                0\n",
      "final_unit_price                   0\n",
      "direct_discount_per_unit           0\n",
      "quantity_discount_per_unit         0\n",
      "bundle_discount_per_unit           0\n",
      "coupon_discount_per_unit           0\n",
      "gift_item                          0\n",
      "dc_ori                             0\n",
      "dc_des                             0\n",
      "dtype: int64\n",
      "\n",
      "variables with missing values order\n",
      "promise    208583\n",
      "dtype: int64\n"
     ]
    }
   ],
   "source": [
    "#Here we have defined a list \"missing_values\" where we have kept 3 values [\"n/a\", \"na\", \"-\"].\n",
    "#The intention towards taking only these 3 values is that in general the missing values in any dataframe might be n/a,na,-\n",
    "#Particulary observing the datasets we have the missing values in order table are \"-\" in one of the column.\n",
    "\n",
    "missing_values = [\"n/a\", \"na\", \"-\"]\n",
    "#The below code creates a dataframe df where we read the csv file again with na_values parameter is set to the \"missing_values\" list. This parameter specifies the list of strings to be considered as missing values when reading the CSV file. Any cell in the CSV file containing one of these strings will be converted to NaN in the DataFrame\n",
    "\n",
    "df = pd.read_csv(\"JD_order_data.csv\", na_values = missing_values)\n",
    "\n",
    "\n",
    "missing_values_order = df.isnull().sum()\n",
    "print(missing_values_order)\n",
    "#isnull() method is used to check each cell in the DataFrame and returns True for missing values (NaN) and False for non-missing values\n",
    "#The .sum() method is then used to count the number of True values (missing values) in each column.\n",
    "\n",
    "#Here we are using  is a variable \"variables_with_missing_values_order\" that represents a filtered DataFrame containing information about missing values in each column of the original DataFrame\n",
    "#Breaking down the code missing_values_order > 0 creates a Boolean DataFrame where each element is True if the corresponding element in the missing_values_order DataFrame is greater than 0, indicating that there are missing values in that column\n",
    "\n",
    "variables_with_missing_values_order = missing_values_order[missing_values_order > 0]\n",
    "print(\"\\nvariables with missing values order\")\n",
    "print(variables_with_missing_values_order)"
   ]
  },
  {
   "cell_type": "code",
   "execution_count": 86,
   "id": "7ea9752f",
   "metadata": {},
   "outputs": [
    {
     "name": "stdout",
     "output_type": "stream",
     "text": [
      "user_ID              0\n",
      "user_level           0\n",
      "first_order_month    0\n",
      "plus                 0\n",
      "gender               0\n",
      "age                  0\n",
      "marital_status       0\n",
      "education            0\n",
      "city_level           0\n",
      "purchase_power       0\n",
      "dtype: int64\n",
      "\n",
      "variables with missing values order\n",
      "Series([], dtype: int64)\n"
     ]
    }
   ],
   "source": [
    "missing_values = [\"n/a\", \"na\", \"-\"]\n",
    "df2 = pd.read_csv(\"JD_user_data.csv\", na_values = missing_values)\n",
    "missing_values_user = df2.isnull().sum()\n",
    "print(missing_values_user)\n",
    "\n",
    "variables_with_missing_values_user = missing_values_user[missing_values_user > 0]\n",
    "print(\"\\nvariables with missing values order\")\n",
    "print(variables_with_missing_values_user)"
   ]
  },
  {
   "cell_type": "code",
   "execution_count": 87,
   "id": "7137dab8",
   "metadata": {},
   "outputs": [
    {
     "name": "stdout",
     "output_type": "stream",
     "text": [
      "package_ID          0\n",
      "order_ID            0\n",
      "type                0\n",
      "ship_out_time       0\n",
      "arr_station_time    0\n",
      "arr_time            0\n",
      "dtype: int64\n",
      "\n",
      "variables with missing values delivery\n",
      "Series([], dtype: int64)\n"
     ]
    }
   ],
   "source": [
    "missing_values = [\"n/a\", \"na\", \"-\"]\n",
    "df3 = pd.read_csv(\"JD_delivery_data.csv\", na_values = missing_values)\n",
    "missing_values_delivery = df3.isnull().sum()\n",
    "print(missing_values_delivery)\n",
    "\n",
    "variables_with_missing_values_delivery = missing_values_delivery[missing_values_delivery > 0]\n",
    "print(\"\\nvariables with missing values delivery\")\n",
    "print(variables_with_missing_values_delivery)"
   ]
  },
  {
   "cell_type": "code",
   "execution_count": 88,
   "id": "43116605",
   "metadata": {},
   "outputs": [
    {
     "name": "stdout",
     "output_type": "stream",
     "text": [
      "dc_ID     0\n",
      "sku_ID    0\n",
      "date      0\n",
      "dtype: int64\n",
      "\n",
      "variables with missing values inventory\n",
      "Series([], dtype: int64)\n"
     ]
    }
   ],
   "source": [
    "missing_values = [\"n/a\", \"na\", \"-\"]\n",
    "df4 = pd.read_csv(\"JD_inventory_data.csv\", na_values = missing_values)\n",
    "missing_values_inventory = df4.isnull().sum()\n",
    "print(missing_values_inventory)\n",
    "\n",
    "variables_with_missing_values_inventory = missing_values_inventory[missing_values_inventory > 0]\n",
    "print(\"\\nvariables with missing values inventory\")\n",
    "print(variables_with_missing_values_inventory)"
   ]
  },
  {
   "cell_type": "code",
   "execution_count": 89,
   "id": "55f5e284",
   "metadata": {},
   "outputs": [
    {
     "name": "stdout",
     "output_type": "stream",
     "text": [
      "region_ID    0\n",
      "dc_ID        0\n",
      "dtype: int64\n",
      "\n",
      "variables with missing values network\n",
      "Series([], dtype: int64)\n"
     ]
    }
   ],
   "source": [
    "missing_values = [\"n/a\", \"na\", \"-\"]\n",
    "df5 = pd.read_csv(\"JD_network_data.csv\", na_values = missing_values)\n",
    "missing_values_network = df5.isnull().sum()\n",
    "print(missing_values_network)\n",
    "\n",
    "variables_with_missing_values_network = missing_values_network[missing_values_network > 0]\n",
    "print(\"\\nvariables with missing values network\")\n",
    "print(variables_with_missing_values_network)"
   ]
  },
  {
   "cell_type": "markdown",
   "id": "d8417be7",
   "metadata": {},
   "source": [
    "5. Check the promise variable in orders table. What unusual values do you notice? What do you think it means?"
   ]
  },
  {
   "cell_type": "code",
   "execution_count": 90,
   "id": "db6c21e7",
   "metadata": {},
   "outputs": [
    {
     "name": "stdout",
     "output_type": "stream",
     "text": [
      "['-' '2' '1' '3' '4' '5' '6' '7' '8']\n"
     ]
    }
   ],
   "source": [
    "#The code to check promise variable in orders table we use a method called \".unique()\"\n",
    "#Coming to the code \"order['promise'].unique()\" we are using the unique() method on orders table specifying the Column name ['Promise']\n",
    "unique_promise_values = order['promise'].unique()\n",
    "print(unique_promise_values)\n",
    "\n",
    "#After running the code we get a list of unique values in the promise column which we can observe in the output\n",
    "#According to the document provided by JD company the meaning of column promise is \"Expected delivery time (in days)\" ranging from min of 1 day to maximum of 8 days.\n",
    "#There is unusual value in the list \"-\" which indicates a missing or unspecified value, which means the expected delivery time cannot be estimated."
   ]
  },
  {
   "cell_type": "markdown",
   "id": "7f44a1aa",
   "metadata": {},
   "source": [
    "6. How many observations for each value in 'promise' variable? What information can you draw from this?"
   ]
  },
  {
   "cell_type": "code",
   "execution_count": 91,
   "id": "ed4221a7",
   "metadata": {
    "scrolled": true
   },
   "outputs": [
    {
     "name": "stdout",
     "output_type": "stream",
     "text": [
      "-    208583\n",
      "1    157509\n",
      "2    109990\n",
      "3     33176\n",
      "4     23882\n",
      "5     10054\n",
      "6      3039\n",
      "8      2374\n",
      "7      1382\n",
      "Name: promise, dtype: int64\n"
     ]
    }
   ],
   "source": [
    "promise_counts = order['promise'].value_counts()\n",
    "print(promise_counts)\n",
    "#breaking down the code\n",
    "#promise_counts is a variable used to store the result of counting the occurrences of each unique value in the 'promise' column\n",
    "#order['promise'] is DataFrame indexing where it extracts specific column from a dataframe\n",
    "#.value_counts() is a pandas Series method that counts the occurrences of each unique value in the Series. It returns a new Series with the unique values as the index and the counts as the values.\n",
    "\n",
    "#The information we can observe from this that the \"Estimated delivery times\" with \"-\" values are more because the delivery time cannot be estimated and the second place goes to 1 day delivery which is highest."
   ]
  },
  {
   "cell_type": "markdown",
   "id": "056bb6b2",
   "metadata": {},
   "source": [
    "7. Select only two variables: 'type' and 'promise' from order table. Sort it by variable 'type' in descending order. What do you observe from the results? (check the first 10 and last 10 observations.) Think about the meaning of the type variable."
   ]
  },
  {
   "cell_type": "code",
   "execution_count": 92,
   "id": "e7c4bf62",
   "metadata": {},
   "outputs": [
    {
     "name": "stdout",
     "output_type": "stream",
     "text": [
      "First 10 observations:\n",
      "        type promise\n",
      "0          2       -\n",
      "308329     2       -\n",
      "308358     2       -\n",
      "308357     2       -\n",
      "308356     2       -\n",
      "308355     2       -\n",
      "308354     2       -\n",
      "308353     2       -\n",
      "308352     2       -\n",
      "308351     2       -\n",
      "Last 10 observations:\n",
      "        type promise\n",
      "334636     1       1\n",
      "334633     1       1\n",
      "334626     1       1\n",
      "334632     1       1\n",
      "334631     1       1\n",
      "116820     1       2\n",
      "116821     1       2\n",
      "116822     1       1\n",
      "334627     1       1\n",
      "274994     1       2\n"
     ]
    }
   ],
   "source": [
    "selected_columns = order[['type', 'promise']]\n",
    "sorted_orders = selected_columns.sort_values(by='type', ascending=False)\n",
    "print(\"First 10 observations:\")\n",
    "print(sorted_orders.head(10))\n",
    "print(\"Last 10 observations:\")\n",
    "print(sorted_orders.tail(10))\n",
    "\n",
    "#selected_columns = order[['type', 'promise']]this line of code selects and extracts two columns, 'type' and 'promise', from the \"order\" DataFrame and assigns the result to a new DataFrame called \"selected_columns.\"\n",
    "#sorted_orders = selected_columns.sort_values(by='type', ascending=False) in this line we are selecting only one column 'type' and sorting the values in descending order, to get the values in descending order we need to mention the \"ascending=False\" argument.\n",
    "#to print the first 10 observations we have to explicitly pass \"10\" parameter in .head() method\n",
    "#to print the last 10 observations we have to explicitly pass \"10\" parameter in .tail() method\n",
    "\n",
    "\n",
    "#Meaning of the variable \"type\" :- According to the dataset the type variable is divided into 2 SKU categories 1P and 3P\n",
    "#Where 1P(first party owned) means top sellers within the category and managed by JD.com itself and 3P(third-party owned) means it is either managed by 3rd party or they may use JD.com logistics if they need.\n",
    "\n",
    "#By the output we can observe that the \"type 1\" which are managed by JD.com has a promise date mentioned which means there is clearly mentioned estimated time of delivery\n",
    "#in contrast \"type 2\" which are managed by 3rd party cannot provide a promise date which are \"-\" values."
   ]
  },
  {
   "cell_type": "markdown",
   "id": "0df0b8a6",
   "metadata": {},
   "source": [
    "8. Merge order and delivery tables, using inner merge. What does inner merge mean? How many observations are there in the merged dataset? Compared with the number of observations in the original order and delivery table, what can you say about the match between orders and deliveries?"
   ]
  },
  {
   "cell_type": "code",
   "execution_count": 93,
   "id": "f3678054",
   "metadata": {},
   "outputs": [
    {
     "name": "stdout",
     "output_type": "stream",
     "text": [
      "\n",
      "merged_data\n",
      "          order_ID     user_ID      sku_ID  order_date             order_time  \\\n",
      "0       7444318d01  33a9e56257  067b673f2b  2018-03-01  2018-03-01 11:10:40.0   \n",
      "1       f973b01694  4ea3cf408f  623d0a582a  2018-03-01  2018-03-01 09:13:26.0   \n",
      "2       8c1cec8d4b  b87cb736cb  fc5289b139  2018-03-01  2018-03-01 21:29:50.0   \n",
      "3       d43a33c38a  4829223b6f  623d0a582a  2018-03-01  2018-03-01 19:13:37.0   \n",
      "4       e0f5386d87  0b07cae293  589c2b865b  2018-03-01  2018-03-01 21:09:15.0   \n",
      "...            ...         ...         ...         ...                    ...   \n",
      "326857  5fd298d448  165ee3e319  f7280c119d  2018-03-31  2018-03-31 12:42:35.0   \n",
      "326858  9fa0694b3b  39933e9bc6  767ac490ed  2018-03-31  2018-03-31 19:51:43.0   \n",
      "326859  c9d77a7ed0  18f92434cd  7f53769d3f  2018-03-31  2018-03-31 08:55:57.0   \n",
      "326860  b9ad79338f  b5caf8a580  8dc4a01dec  2018-03-31  2018-03-31 13:31:01.0   \n",
      "326861  02d31f05c9  f260895cbe  10d369ef96  2018-03-31  2018-03-31 18:21:16.0   \n",
      "\n",
      "        quantity  type_x promise  original_unit_price  final_unit_price  ...  \\\n",
      "0              1       1       2                 99.9              53.9  ...   \n",
      "1              1       1       2                 78.0              58.5  ...   \n",
      "2              1       1       2                 61.0              35.0  ...   \n",
      "3              1       1       1                 78.0              53.0  ...   \n",
      "4              1       1       1                 79.9              38.9  ...   \n",
      "...          ...     ...     ...                  ...               ...  ...   \n",
      "326857         1       2       3                269.0             189.0  ...   \n",
      "326858         1       1       2                  0.0              -1.0  ...   \n",
      "326859         1       1       3                118.0              55.0  ...   \n",
      "326860         1       1       2                 78.0              78.0  ...   \n",
      "326861         1       2       4                 68.0              49.0  ...   \n",
      "\n",
      "        bundle_discount_per_unit  coupon_discount_per_unit  gift_item  dc_ori  \\\n",
      "0                            0.0                       0.0          0      28   \n",
      "1                            0.0                       0.0          0      28   \n",
      "2                            0.0                       0.0          0       4   \n",
      "3                            0.0                       6.0          0       3   \n",
      "4                            0.0                       0.0          0       3   \n",
      "...                          ...                       ...        ...     ...   \n",
      "326857                       0.0                       0.0          0       2   \n",
      "326858                       0.0                       0.0          1       2   \n",
      "326859                       0.0                       0.0          0      59   \n",
      "326860                       0.0                       0.0          0       2   \n",
      "326861                       0.0                       0.0          0       4   \n",
      "\n",
      "        dc_des  package_ID  type_y        ship_out_time     arr_station_time  \\\n",
      "0           28  7444318d01       1  2018-03-01 13:00:00  2018-03-02 08:00:00   \n",
      "1           28  f973b01694       1  2018-03-01 14:00:00  2018-03-02 09:00:00   \n",
      "2           28  8c1cec8d4b       1  2018-03-02 09:00:00  2018-03-03 08:00:00   \n",
      "3           16  d43a33c38a       1  2018-03-01 20:00:00  2018-03-02 07:00:00   \n",
      "4           16  e0f5386d87       1  2018-03-01 22:00:00  2018-03-02 09:00:00   \n",
      "...        ...         ...     ...                  ...                  ...   \n",
      "326857       2  1b81523e8d       0  2018-03-31 13:00:00  2018-04-02 07:00:00   \n",
      "326858       2  9fa0694b3b       1  2018-03-31 21:00:00  2018-04-01 07:00:00   \n",
      "326859       2  c9d77a7ed0       1  2018-03-31 11:00:00  2018-04-02 07:00:00   \n",
      "326860       2  b9ad79338f       1  2018-03-31 14:00:00  2018-04-01 07:00:00   \n",
      "326861      28  1722a36a69       0  2018-04-01 14:00:00  2018-04-05 08:00:00   \n",
      "\n",
      "                   arr_time  \n",
      "0       2018-03-02 14:00:00  \n",
      "1       2018-03-02 13:00:00  \n",
      "2       2018-03-04 11:00:00  \n",
      "3       2018-03-02 11:00:00  \n",
      "4       2018-03-02 12:00:00  \n",
      "...                     ...  \n",
      "326857  2018-04-02 13:00:00  \n",
      "326858  2018-04-01 10:00:00  \n",
      "326859  2018-04-02 15:00:00  \n",
      "326860  2018-04-01 11:00:00  \n",
      "326861  2018-04-05 13:00:00  \n",
      "\n",
      "[326862 rows x 22 columns]\n",
      "\n",
      "num_observations_merged\n",
      "326862\n",
      "\n",
      "num_observations_orders\n",
      "549989\n",
      "\n",
      "num_observations_delivery\n",
      "293229\n"
     ]
    }
   ],
   "source": [
    "merged_data = pd.merge(order, delivery, on='order_ID', how='inner')\n",
    "print(\"\\nmerged_data\")\n",
    "print(merged_data)\n",
    "#Breaking down the code \n",
    "#pd.merge(order, delivery, on='order_ID', how='inner') this line of code indicates the we are using merge() method and combining two tables on a common key which is \"order_ID\" in our case and we are performing a inner Join in this.\n",
    "#What does inner merge mean?\n",
    "#In an inner merge, only rows with matching 'order_ID' values in both DataFrames will be included in the merged result. Rows with non-matching 'order_ID' values will be excluded.\n",
    "\n",
    "num_observations_merged = len(merged_data)\n",
    "print(\"\\nnum_observations_merged\")\n",
    "print(num_observations_merged)\n",
    "#we use len() function to know the values in merged_data \n",
    "\n",
    "# Count the number of observations in the original \"orders\" and \"delivery\" tables\n",
    "num_observations_orders = len(order)\n",
    "num_observations_delivery = len(delivery)\n",
    "#these two lines of code gives the number of original observations in the order and delivery tables\n",
    "\n",
    "print(\"\\nnum_observations_orders\")\n",
    "print(num_observations_orders)\n",
    "print(\"\\nnum_observations_delivery\")\n",
    "print(num_observations_delivery)\n",
    "\n",
    "#As we observe the output there are only 325811 matching values from both the order and delivery dataframes"
   ]
  },
  {
   "cell_type": "markdown",
   "id": "71c34250",
   "metadata": {},
   "source": [
    "9. Merge order and delivery tables, using right merge. What does right merge mean? How many obervations are there in the merged dataset? Do all delivery records have matched order information?"
   ]
  },
  {
   "cell_type": "code",
   "execution_count": 94,
   "id": "8f086ba4",
   "metadata": {},
   "outputs": [
    {
     "name": "stdout",
     "output_type": "stream",
     "text": [
      "          order_ID     user_ID      sku_ID  order_date             order_time  \\\n",
      "0       dc3d6d2258  ee666e25c3  2e06817802  2018-03-01  2018-03-01 06:21:07.0   \n",
      "1       19802a570c  845df5b5f2  5ae1bb1c76  2018-03-01  2018-03-01 09:10:09.0   \n",
      "2       e22627af66  cae0d8c01f  b8c182c74f  2018-03-01  2018-03-01 10:50:41.0   \n",
      "3       e22627af66  cae0d8c01f  c98d32ff09  2018-03-01  2018-03-01 10:50:41.0   \n",
      "4       e22627af66  cae0d8c01f  c98d32ff09  2018-03-01  2018-03-01 10:50:41.0   \n",
      "...            ...         ...         ...         ...                    ...   \n",
      "326857  cb319102f1  df8c108eff  ac0cd64708  2018-03-31  2018-03-31 23:38:17.0   \n",
      "326858  0fe3bbcfd8  b1fa95ae5e  068f4481b3  2018-03-22  2018-03-22 17:42:37.0   \n",
      "326859  0fe3bbcfd8  b1fa95ae5e  fbce41fd82  2018-03-22  2018-03-22 17:42:37.0   \n",
      "326860  0fe3bbcfd8  b1fa95ae5e  8dc4a01dec  2018-03-22  2018-03-22 17:42:37.0   \n",
      "326861  d22fa05841  4032897ccb  50b53a8536  2018-03-24  2018-03-24 14:50:47.0   \n",
      "\n",
      "        quantity  type_x promise  original_unit_price  final_unit_price  ...  \\\n",
      "0              1       1       1                 36.0         33.000000  ...   \n",
      "1              1       1       1                 78.0         59.000000  ...   \n",
      "2              1       1       1                230.0        188.000000  ...   \n",
      "3              3       1       1                  0.0          0.000000  ...   \n",
      "4              3       1       1                  0.0         -0.333333  ...   \n",
      "...          ...     ...     ...                  ...               ...  ...   \n",
      "326857         2       1       6                 69.9         44.900000  ...   \n",
      "326858         1       1       8                298.0        232.000000  ...   \n",
      "326859         1       1       8                178.0        158.000000  ...   \n",
      "326860         2       1       8                 78.0         54.500000  ...   \n",
      "326861         1       1       8                 99.0         65.000000  ...   \n",
      "\n",
      "        bundle_discount_per_unit  coupon_discount_per_unit  gift_item  dc_ori  \\\n",
      "0                            0.0                  3.000000          0       4   \n",
      "1                            0.0                  0.000000          0       2   \n",
      "2                            0.0                 42.000000          0       5   \n",
      "3                            0.0                  0.000000          1       5   \n",
      "4                            0.0                  0.333333          1       5   \n",
      "...                          ...                       ...        ...     ...   \n",
      "326857                       0.0                  0.000000          0      24   \n",
      "326858                      66.0                  0.000000          0      41   \n",
      "326859                      20.0                  0.000000          0      41   \n",
      "326860                      13.5                 10.000000          0      41   \n",
      "326861                       0.0                  0.000000          0       4   \n",
      "\n",
      "        dc_des  package_ID  type_y        ship_out_time     arr_station_time  \\\n",
      "0            4  dc3d6d2258       1  2018-03-01 08:00:00  2018-03-01 15:00:00   \n",
      "1            2  19802a570c       1  2018-03-01 10:00:00  2018-03-01 15:00:00   \n",
      "2            5  e22627af66       1  2018-03-01 11:00:00  2018-03-01 15:00:00   \n",
      "3            5  e22627af66       1  2018-03-01 11:00:00  2018-03-01 15:00:00   \n",
      "4            5  e22627af66       1  2018-03-01 11:00:00  2018-03-01 15:00:00   \n",
      "...        ...         ...     ...                  ...                  ...   \n",
      "326857      41  cb319102f1       1  2018-04-01 10:00:00  2018-04-07 11:00:00   \n",
      "326858      41  0fe3bbcfd8       1  2018-03-31 13:00:00  2018-04-04 22:00:00   \n",
      "326859      41  0fe3bbcfd8       1  2018-03-31 13:00:00  2018-04-04 22:00:00   \n",
      "326860      41  0fe3bbcfd8       1  2018-03-31 13:00:00  2018-04-04 22:00:00   \n",
      "326861       4  d22fa05841       1  2018-03-25 09:00:00  2018-03-26 09:00:00   \n",
      "\n",
      "                   arr_time  \n",
      "0       2018-03-01 18:00:00  \n",
      "1       2018-03-01 17:00:00  \n",
      "2       2018-03-01 17:00:00  \n",
      "3       2018-03-01 17:00:00  \n",
      "4       2018-03-01 17:00:00  \n",
      "...                     ...  \n",
      "326857  2018-04-07 15:00:00  \n",
      "326858  2018-04-07 11:00:00  \n",
      "326859  2018-04-07 11:00:00  \n",
      "326860  2018-04-07 11:00:00  \n",
      "326861  2018-04-07 14:00:00  \n",
      "\n",
      "[326862 rows x 22 columns]\n",
      "\n",
      "num_observations_merged_2\n",
      "326862\n",
      "\n",
      "num_observations_order_2\n",
      "549989\n",
      "\n",
      "num_observations_delivery_2\n",
      "293229\n",
      "All delivery records have matched order information.\n"
     ]
    }
   ],
   "source": [
    "merged_data_2 = pd.merge(order, delivery, on='order_ID', how='right')\n",
    "print(merged_data_2)\n",
    "#Breaking down the code \n",
    "#pd.merge(order, delivery, on='order_ID', how='right') this line of code indicates the we are using merge() method and combining two tables on a common key which is \"order_ID\" in this case and we are performing a right Join in this.\n",
    "#What does right merge mean?\n",
    "#A right merge, also known as a right join, is a type of merge operation in pandas that combines two DataFrames based on a specified keys.In a right merge, all rows from the right DataFrame (in this case, \"delivery\") are included in the merged dataset. Rows with matching key(s) from the left DataFrame (in this case, \"order\") are included in the merged result. If there are unmatched rows in the left DataFrame, they are excluded from the result.\n",
    "\n",
    "# Count the number of observations in the merged dataset\n",
    "num_observations_merged_2 = len(merged_data_2)\n",
    "print(\"\\nnum_observations_merged_2\")\n",
    "print(num_observations_merged_2)\n",
    "#we use len() function to know the number of values in merged_data_2\n",
    "\n",
    "# Count the number of observations in the original \"orders\" and \"delivery\" tables\n",
    "num_observations_order_2 = len(order)\n",
    "num_observations_delivery_2 = len(delivery)\n",
    "#these two lines of code gives the number of original observations in the order and delivery tables\n",
    "\n",
    "print(\"\\nnum_observations_order_2\")\n",
    "print(num_observations_order_2)\n",
    "print(\"\\nnum_observations_delivery_2\")\n",
    "print(num_observations_delivery_2)\n",
    "\n",
    "# Check if all delivery records have matched order information\n",
    "all_delivery_records_matched = merged_data['order_ID'].notna().all()\n",
    "#merged_data['order_ID'].notna() This expression is used to check for missing (non-null) values in the 'order_ID' column of the \"merged_data\" DataFrame. The .notna() method returns True for non-null values and False for missing (null) values. In this case, it checks for non-null values in the 'order_ID' column\n",
    "#here we use a if-else statement to check wheather all the devilvery records are matching with the order information.\n",
    "if all_delivery_records_matched:\n",
    "    print(\"All delivery records have matched order information.\")\n",
    "else:\n",
    "    print(\"Not all delivery records have matched order information.\")\n",
    "#By Output we got that all the delivery records have matched order information.   "
   ]
  },
  {
   "cell_type": "markdown",
   "id": "6b9bbe86",
   "metadata": {},
   "source": [
    "10. Merge order and delivery tables, using left merge. What does left merge mean? How many obervations are there in the merged dataset? Compare the number of observations of the merged table with the original order table, what can you say about the match between orders and deliveries?"
   ]
  },
  {
   "cell_type": "code",
   "execution_count": 95,
   "id": "0c26a7f4",
   "metadata": {},
   "outputs": [
    {
     "name": "stdout",
     "output_type": "stream",
     "text": [
      "          order_ID     user_ID      sku_ID  order_date             order_time  \\\n",
      "0       d0cf5cc6db  0abe9ef2ce  581d5b54c1  2018-03-01  2018-03-01 17:14:25.0   \n",
      "1       7444318d01  33a9e56257  067b673f2b  2018-03-01  2018-03-01 11:10:40.0   \n",
      "2       f973b01694  4ea3cf408f  623d0a582a  2018-03-01  2018-03-01 09:13:26.0   \n",
      "3       8c1cec8d4b  b87cb736cb  fc5289b139  2018-03-01  2018-03-01 21:29:50.0   \n",
      "4       d43a33c38a  4829223b6f  623d0a582a  2018-03-01  2018-03-01 19:13:37.0   \n",
      "...            ...         ...         ...         ...                    ...   \n",
      "550012  3ad06b9fbe  a27b3ed4d4  a9109972d1  2018-03-31  2018-03-31 01:22:47.0   \n",
      "550013  c9d77a7ed0  18f92434cd  7f53769d3f  2018-03-31  2018-03-31 08:55:57.0   \n",
      "550014  b9ad79338f  b5caf8a580  8dc4a01dec  2018-03-31  2018-03-31 13:31:01.0   \n",
      "550015  be3a9414b1  20ba6655f3  2dd6b818ec  2018-03-31  2018-03-31 12:51:18.0   \n",
      "550016  02d31f05c9  f260895cbe  10d369ef96  2018-03-31  2018-03-31 18:21:16.0   \n",
      "\n",
      "        quantity  type_x promise  original_unit_price  final_unit_price  ...  \\\n",
      "0              1       2       -                 89.0              79.0  ...   \n",
      "1              1       1       2                 99.9              53.9  ...   \n",
      "2              1       1       2                 78.0              58.5  ...   \n",
      "3              1       1       2                 61.0              35.0  ...   \n",
      "4              1       1       1                 78.0              53.0  ...   \n",
      "...          ...     ...     ...                  ...               ...  ...   \n",
      "550012         1       2       -                  0.0              -1.0  ...   \n",
      "550013         1       1       3                118.0              55.0  ...   \n",
      "550014         1       1       2                 78.0              78.0  ...   \n",
      "550015         1       2       -                189.0              78.0  ...   \n",
      "550016         1       2       4                 68.0              49.0  ...   \n",
      "\n",
      "        bundle_discount_per_unit  coupon_discount_per_unit  gift_item  dc_ori  \\\n",
      "0                            0.0                       0.0          0       4   \n",
      "1                            0.0                       0.0          0      28   \n",
      "2                            0.0                       0.0          0      28   \n",
      "3                            0.0                       0.0          0       4   \n",
      "4                            0.0                       6.0          0       3   \n",
      "...                          ...                       ...        ...     ...   \n",
      "550012                       0.0                       1.0          1       2   \n",
      "550013                       0.0                       0.0          0      59   \n",
      "550014                       0.0                       0.0          0       2   \n",
      "550015                       0.0                       0.0          0       4   \n",
      "550016                       0.0                       0.0          0       4   \n",
      "\n",
      "        dc_des  package_ID  type_y        ship_out_time     arr_station_time  \\\n",
      "0           28         NaN     NaN                  NaN                  NaN   \n",
      "1           28  7444318d01     1.0  2018-03-01 13:00:00  2018-03-02 08:00:00   \n",
      "2           28  f973b01694     1.0  2018-03-01 14:00:00  2018-03-02 09:00:00   \n",
      "3           28  8c1cec8d4b     1.0  2018-03-02 09:00:00  2018-03-03 08:00:00   \n",
      "4           16  d43a33c38a     1.0  2018-03-01 20:00:00  2018-03-02 07:00:00   \n",
      "...        ...         ...     ...                  ...                  ...   \n",
      "550012       2         NaN     NaN                  NaN                  NaN   \n",
      "550013       2  c9d77a7ed0     1.0  2018-03-31 11:00:00  2018-04-02 07:00:00   \n",
      "550014       2  b9ad79338f     1.0  2018-03-31 14:00:00  2018-04-01 07:00:00   \n",
      "550015      28         NaN     NaN                  NaN                  NaN   \n",
      "550016      28  1722a36a69     0.0  2018-04-01 14:00:00  2018-04-05 08:00:00   \n",
      "\n",
      "                   arr_time  \n",
      "0                       NaN  \n",
      "1       2018-03-02 14:00:00  \n",
      "2       2018-03-02 13:00:00  \n",
      "3       2018-03-04 11:00:00  \n",
      "4       2018-03-02 11:00:00  \n",
      "...                     ...  \n",
      "550012                  NaN  \n",
      "550013  2018-04-02 15:00:00  \n",
      "550014  2018-04-01 11:00:00  \n",
      "550015                  NaN  \n",
      "550016  2018-04-05 13:00:00  \n",
      "\n",
      "[550017 rows x 22 columns]\n",
      "\n",
      "num_observations_merged_3\n",
      "550017\n",
      "\n",
      "num_observations_orders_3\n",
      "549989\n",
      "Some orders do not have corresponding delivery records.\n"
     ]
    }
   ],
   "source": [
    "merged_data_3 = pd.merge(order, delivery, on='order_ID', how='left')\n",
    "print(merged_data_3)\n",
    "#Breaking down the code \n",
    "#pd.merge(order, delivery, on='order_ID', how='left') this line of code indicates the we are using merge() method and combining two tables on a common key which is \"order_ID\" in this case and we are performing a left Join in this.\n",
    "#What does left merge mean?\n",
    "#A left merge, also known as a left join, is a type of merge operation in pandas that combines two DataFrames based on a specified key or keys. In a left merge, all rows from the left DataFrame (in this case, \"order\") are included in the merged dataset. Rows with matching key(s) from the right DataFrame (in this case, \"delivery\") are also included. However, if there are unmatched rows in the right DataFrame, they are excluded from the result\n",
    "\n",
    "# Count the number of observations in the merged dataset\n",
    "num_observations_merged_3 = len(merged_data_3)\n",
    "#we use len() function to know the number of values in merged_data_3\n",
    "\n",
    "# Count the number of observations in the original \"orders\" table\n",
    "num_observations_orders_3 = len(order)\n",
    "\n",
    "print(\"\\nnum_observations_merged_3\")\n",
    "print(num_observations_merged_3)\n",
    "print(\"\\nnum_observations_orders_3\")\n",
    "print(num_observations_orders_3)\n",
    "#these two lines of code gives the number of original observations in the order table  and merged_3 table\n",
    "\n",
    "\n",
    "# Compare the number of observations in the merged table with the original order table\n",
    "if num_observations_merged_3 == num_observations_orders_3:\n",
    "    print(\"All orders have corresponding delivery records.\")\n",
    "else:\n",
    "    print(\"Some orders do not have corresponding delivery records.\")\n",
    "#we use an if statement that checks whether the number of observations in the merged dataset (num_observations_merged_3) is equal to the number of observations in the original \"order\" table (num_observations_orders_3)\n",
    "#It confirms that all the orders present in the order sheet are not present in delivery sheet, it may happen because all the orders may not have delivery information because of other factors."
   ]
  },
  {
   "cell_type": "markdown",
   "id": "b96e04d2",
   "metadata": {},
   "source": [
    "### Assignment 9 starts here. Q11 - Q20."
   ]
  },
  {
   "cell_type": "markdown",
   "id": "5f47c320",
   "metadata": {},
   "source": [
    "In this part, we prepare the data for analysis."
   ]
  },
  {
   "cell_type": "markdown",
   "id": "a3c58838",
   "metadata": {},
   "source": [
    "11. First, we need to clean the merged order and delivery table.<br>\n",
    "Identify the table from the inner merge in Q8. Take a look at it. You may find there are two variables: type_x and type_y, which were not in the original two tables.<br>\n",
    "The reason is that there is a type variable in both orders and delivery tables. The merge keeps both and assigned x and y suffix to them.<br>\n",
    "Check the meaning of the two variables in our data description.<br>\n",
    "To make the two variables consistent, we can replace the values of one variable to match the other."
   ]
  },
  {
   "cell_type": "code",
   "execution_count": 96,
   "id": "45855a47",
   "metadata": {},
   "outputs": [],
   "source": [
    "merged_data['type_x'] = merged_data['type_y']"
   ]
  },
  {
   "cell_type": "markdown",
   "id": "71e74326",
   "metadata": {},
   "source": [
    "Then compare the values of the two variables are the same."
   ]
  },
  {
   "cell_type": "code",
   "execution_count": 97,
   "id": "4a5a220e",
   "metadata": {},
   "outputs": [
    {
     "name": "stdout",
     "output_type": "stream",
     "text": [
      "True\n"
     ]
    }
   ],
   "source": [
    "are_values_same = (merged_data['type_x'] == merged_data['type_y']).all()\n",
    "print(are_values_same)"
   ]
  },
  {
   "cell_type": "markdown",
   "id": "caa13f03",
   "metadata": {},
   "source": [
    "If they are, please drop one of them."
   ]
  },
  {
   "cell_type": "code",
   "execution_count": 98,
   "id": "ddb5d3d9",
   "metadata": {},
   "outputs": [],
   "source": [
    "if are_values_same:\n",
    "    merged_data.drop(columns=['type_y'], inplace=True)"
   ]
  },
  {
   "cell_type": "code",
   "execution_count": 99,
   "id": "60630a96",
   "metadata": {},
   "outputs": [
    {
     "name": "stdout",
     "output_type": "stream",
     "text": [
      "     order_ID     user_ID      sku_ID  order_date             order_time  \\\n",
      "0  7444318d01  33a9e56257  067b673f2b  2018-03-01  2018-03-01 11:10:40.0   \n",
      "1  f973b01694  4ea3cf408f  623d0a582a  2018-03-01  2018-03-01 09:13:26.0   \n",
      "2  8c1cec8d4b  b87cb736cb  fc5289b139  2018-03-01  2018-03-01 21:29:50.0   \n",
      "3  d43a33c38a  4829223b6f  623d0a582a  2018-03-01  2018-03-01 19:13:37.0   \n",
      "4  e0f5386d87  0b07cae293  589c2b865b  2018-03-01  2018-03-01 21:09:15.0   \n",
      "\n",
      "   quantity  type_x promise  original_unit_price  final_unit_price  ...  \\\n",
      "0         1       1       2                 99.9              53.9  ...   \n",
      "1         1       1       2                 78.0              58.5  ...   \n",
      "2         1       1       2                 61.0              35.0  ...   \n",
      "3         1       1       1                 78.0              53.0  ...   \n",
      "4         1       1       1                 79.9              38.9  ...   \n",
      "\n",
      "   quantity_discount_per_unit  bundle_discount_per_unit  \\\n",
      "0                        41.0                       0.0   \n",
      "1                         0.0                       0.0   \n",
      "2                        26.0                       0.0   \n",
      "3                         0.0                       0.0   \n",
      "4                        37.0                       0.0   \n",
      "\n",
      "   coupon_discount_per_unit  gift_item  dc_ori  dc_des  package_ID  \\\n",
      "0                       0.0          0      28      28  7444318d01   \n",
      "1                       0.0          0      28      28  f973b01694   \n",
      "2                       0.0          0       4      28  8c1cec8d4b   \n",
      "3                       6.0          0       3      16  d43a33c38a   \n",
      "4                       0.0          0       3      16  e0f5386d87   \n",
      "\n",
      "         ship_out_time     arr_station_time             arr_time  \n",
      "0  2018-03-01 13:00:00  2018-03-02 08:00:00  2018-03-02 14:00:00  \n",
      "1  2018-03-01 14:00:00  2018-03-02 09:00:00  2018-03-02 13:00:00  \n",
      "2  2018-03-02 09:00:00  2018-03-03 08:00:00  2018-03-04 11:00:00  \n",
      "3  2018-03-01 20:00:00  2018-03-02 07:00:00  2018-03-02 11:00:00  \n",
      "4  2018-03-01 22:00:00  2018-03-02 09:00:00  2018-03-02 12:00:00  \n",
      "\n",
      "[5 rows x 21 columns]\n"
     ]
    }
   ],
   "source": [
    "print(merged_data.head())"
   ]
  },
  {
   "cell_type": "markdown",
   "id": "64cefd13",
   "metadata": {},
   "source": [
    "12. We need to remove the orders that <br>\n",
    "1) has a single item; <br>\n",
    "2) the item is a gift item;<br>\n",
    "\n",
    "The reason is that those orders might have come from other product categories and only use products from current category as a gift. We do not have information about those orders."
   ]
  },
  {
   "cell_type": "markdown",
   "id": "f9338863",
   "metadata": {},
   "source": [
    "We first find orders with order_ID only appears once in the data, which indicates this order contains a single item.<br>\n",
    "Hint: you may use .duplicated() method to mark that. Think about which value of the argument 'keep' you want to choose. Consider saving the outcome as a variable."
   ]
  },
  {
   "cell_type": "code",
   "execution_count": 100,
   "id": "4dc1e8c7",
   "metadata": {},
   "outputs": [],
   "source": [
    "order_counts = merged_data['order_ID'].duplicated(keep=False)\n",
    "\n",
    "single_item_orders = merged_data[~order_counts]"
   ]
  },
  {
   "cell_type": "markdown",
   "id": "e4ca8fbb",
   "metadata": {},
   "source": [
    "Then we filter the data to remove those orders of a single gift item. Save the changes."
   ]
  },
  {
   "cell_type": "code",
   "execution_count": 101,
   "id": "e59c8837",
   "metadata": {},
   "outputs": [],
   "source": [
    "filtered_orders = single_item_orders[single_item_orders['gift_item'] == False]\n",
    "merged_data_filtered = filtered_orders.copy()"
   ]
  },
  {
   "cell_type": "markdown",
   "id": "a6834bef",
   "metadata": {},
   "source": [
    "13. Next, we remove orders with multiple packages. Hint: You may groupby order_ID, find the number of unique package_ID ('nunique') and then use transform() to broadcast the value to all record. Save the results as a new variable. Use the variable value to filter."
   ]
  },
  {
   "cell_type": "code",
   "execution_count": 102,
   "id": "d04379c4",
   "metadata": {},
   "outputs": [],
   "source": [
    "package_counts = merged_data_filtered.groupby('order_ID')['package_ID'].nunique()\n",
    "\n",
    "merged_data_filtered['package_count'] = merged_data_filtered['order_ID'].transform(lambda x: package_counts[x])\n",
    "\n",
    "filtered_data = merged_data_filtered[merged_data_filtered['package_count'] == 1].copy()\n",
    "\n",
    "filtered_data.drop(columns=['package_count'], inplace=True)\n",
    "\n",
    "merged_data_filtered_2 = filtered_data.copy()"
   ]
  },
  {
   "cell_type": "markdown",
   "id": "c334d96d",
   "metadata": {},
   "source": [
    "14. Now we process time-related variables: order_date, order_time, ship_out_time, arr_station_time, and arr_time. <br>\n",
    "First change all of them to Timestamp data type. <br>\n",
    "Get the day of the month from the order_date and save it to a new variable 'order_day'. <br>\n",
    "Get the hour of the order_time and save it to a new variable 'order_hour'.<br>\n",
    "Caculate the delivery time by minus arr_time with order_time. <br>"
   ]
  },
  {
   "cell_type": "code",
   "execution_count": 103,
   "id": "4b24e87e",
   "metadata": {},
   "outputs": [
    {
     "name": "stdout",
     "output_type": "stream",
     "text": [
      "0        2018-03-01\n",
      "1        2018-03-01\n",
      "2        2018-03-01\n",
      "3        2018-03-01\n",
      "4        2018-03-01\n",
      "            ...    \n",
      "326856   2018-03-31\n",
      "326857   2018-03-31\n",
      "326859   2018-03-31\n",
      "326860   2018-03-31\n",
      "326861   2018-03-31\n",
      "Name: order_date, Length: 252886, dtype: datetime64[ns]\n"
     ]
    }
   ],
   "source": [
    "merged_data_filtered_2['order_date'] = pd.to_datetime(merged_data_filtered_2['order_date'])\n",
    "print(merged_data_filtered_2['order_date'])"
   ]
  },
  {
   "cell_type": "code",
   "execution_count": 104,
   "id": "6ce3d876",
   "metadata": {},
   "outputs": [
    {
     "name": "stdout",
     "output_type": "stream",
     "text": [
      "0         11:10:40\n",
      "1         09:13:26\n",
      "2         21:29:50\n",
      "3         19:13:37\n",
      "4         21:09:15\n",
      "            ...   \n",
      "326856    13:47:52\n",
      "326857    12:42:35\n",
      "326859    08:55:57\n",
      "326860    13:31:01\n",
      "326861    18:21:16\n",
      "Name: order_time, Length: 252886, dtype: object\n"
     ]
    }
   ],
   "source": [
    "merged_data_filtered_2['order_time'] = pd.to_datetime(merged_data_filtered_2['order_time'], format='%Y-%m-%d %H:%M:%S.%f').dt.time\n",
    "print(merged_data_filtered_2['order_time'])"
   ]
  },
  {
   "cell_type": "code",
   "execution_count": 105,
   "id": "8f7638a6",
   "metadata": {},
   "outputs": [
    {
     "name": "stdout",
     "output_type": "stream",
     "text": [
      "0         13:00:00\n",
      "1         14:00:00\n",
      "2         09:00:00\n",
      "3         20:00:00\n",
      "4         22:00:00\n",
      "            ...   \n",
      "326856    15:00:00\n",
      "326857    13:00:00\n",
      "326859    11:00:00\n",
      "326860    14:00:00\n",
      "326861    14:00:00\n",
      "Name: ship_out_time, Length: 252886, dtype: object\n"
     ]
    }
   ],
   "source": [
    "merged_data_filtered_2['ship_out_time'] = pd.to_datetime(merged_data_filtered_2['ship_out_time'], format='%Y-%m-%d %H:%M:%S').dt.time\n",
    "print(merged_data_filtered_2['ship_out_time'])"
   ]
  },
  {
   "cell_type": "code",
   "execution_count": 106,
   "id": "31732550",
   "metadata": {},
   "outputs": [
    {
     "data": {
      "text/plain": [
       "0         08:00:00\n",
       "1         09:00:00\n",
       "2         08:00:00\n",
       "3         07:00:00\n",
       "4         09:00:00\n",
       "            ...   \n",
       "326856    07:00:00\n",
       "326857    07:00:00\n",
       "326859    07:00:00\n",
       "326860    07:00:00\n",
       "326861    08:00:00\n",
       "Name: arr_station_time, Length: 252886, dtype: object"
      ]
     },
     "execution_count": 106,
     "metadata": {},
     "output_type": "execute_result"
    }
   ],
   "source": [
    "merged_data_filtered_2['arr_station_time'] = pd.to_datetime(merged_data_filtered_2['arr_station_time'], format='%Y-%m-%d %H:%M:%S').dt.time\n",
    "merged_data_filtered_2['arr_station_time']"
   ]
  },
  {
   "cell_type": "code",
   "execution_count": 107,
   "id": "66cfb65a",
   "metadata": {},
   "outputs": [
    {
     "data": {
      "text/plain": [
       "0         14:00:00\n",
       "1         13:00:00\n",
       "2         11:00:00\n",
       "3         11:00:00\n",
       "4         12:00:00\n",
       "            ...   \n",
       "326856    12:00:00\n",
       "326857    13:00:00\n",
       "326859    15:00:00\n",
       "326860    11:00:00\n",
       "326861    13:00:00\n",
       "Name: arr_time, Length: 252886, dtype: object"
      ]
     },
     "execution_count": 107,
     "metadata": {},
     "output_type": "execute_result"
    }
   ],
   "source": [
    "merged_data_filtered_2['arr_time'] = pd.to_datetime(merged_data_filtered_2['arr_time'], format='%Y-%m-%d %H:%M:%S').dt.time\n",
    "merged_data_filtered_2['arr_time']"
   ]
  },
  {
   "cell_type": "code",
   "execution_count": 108,
   "id": "bf75231f",
   "metadata": {},
   "outputs": [
    {
     "data": {
      "text/plain": [
       "0          1\n",
       "1          1\n",
       "2          1\n",
       "3          1\n",
       "4          1\n",
       "          ..\n",
       "326856    31\n",
       "326857    31\n",
       "326859    31\n",
       "326860    31\n",
       "326861    31\n",
       "Name: order_day, Length: 252886, dtype: int64"
      ]
     },
     "execution_count": 108,
     "metadata": {},
     "output_type": "execute_result"
    }
   ],
   "source": [
    "merged_data_filtered_2['order_day'] = merged_data_filtered_2['order_date'].dt.day\n",
    "merged_data_filtered_2['order_day']"
   ]
  },
  {
   "cell_type": "code",
   "execution_count": 109,
   "id": "2f5678b8",
   "metadata": {},
   "outputs": [
    {
     "data": {
      "text/plain": [
       "0         11\n",
       "1          9\n",
       "2         21\n",
       "3         19\n",
       "4         21\n",
       "          ..\n",
       "326856    13\n",
       "326857    12\n",
       "326859     8\n",
       "326860    13\n",
       "326861    18\n",
       "Name: order_hour, Length: 252886, dtype: int64"
      ]
     },
     "execution_count": 109,
     "metadata": {},
     "output_type": "execute_result"
    }
   ],
   "source": [
    "merged_data_filtered_2['order_hour'] = merged_data_filtered_2['order_time'].apply(lambda x: x.hour)\n",
    "merged_data_filtered_2['order_hour']"
   ]
  },
  {
   "cell_type": "code",
   "execution_count": 110,
   "id": "b684c925",
   "metadata": {},
   "outputs": [
    {
     "name": "stdout",
     "output_type": "stream",
     "text": [
      "0          2.822222\n",
      "1          3.776111\n",
      "2        -10.497222\n",
      "3         -8.226944\n",
      "4         -9.154167\n",
      "            ...    \n",
      "326856    -1.797778\n",
      "326857     0.290278\n",
      "326859     6.067500\n",
      "326860    -2.516944\n",
      "326861    -5.354444\n",
      "Name: delivery_time, Length: 252886, dtype: float64\n"
     ]
    }
   ],
   "source": [
    "import datetime\n",
    "\n",
    "# Function to convert time to datetime objects\n",
    "def time_to_datetime(t):\n",
    "    return datetime.datetime.combine(datetime.date.today(), t)\n",
    "\n",
    "# Convert time objects to datetime objects\n",
    "arr_datetime = merged_data_filtered_2['arr_time'].apply(time_to_datetime)\n",
    "order_datetime = merged_data_filtered_2['order_time'].apply(time_to_datetime)\n",
    "\n",
    "# Calculate the difference in times\n",
    "merged_data_filtered_2['delivery_time'] = (arr_datetime - order_datetime).dt.total_seconds() / 3600\n",
    "\n",
    "# Display the result\n",
    "print(merged_data_filtered_2['delivery_time'])"
   ]
  },
  {
   "cell_type": "markdown",
   "id": "bfa148fb",
   "metadata": {},
   "source": [
    "15. We will transform the delivery time to hours. Hint: You can use total_seconds() method to turn it into seconds and find hours. Use apply() to apply a function for the transformation."
   ]
  },
  {
   "cell_type": "code",
   "execution_count": 111,
   "id": "9e7052a2",
   "metadata": {},
   "outputs": [
    {
     "name": "stdout",
     "output_type": "stream",
     "text": [
      "       order_date order_time ship_out_time arr_station_time  arr_time  \\\n",
      "0      2018-03-01   11:10:40      13:00:00         08:00:00  14:00:00   \n",
      "1      2018-03-01   09:13:26      14:00:00         09:00:00  13:00:00   \n",
      "2      2018-03-01   21:29:50      09:00:00         08:00:00  11:00:00   \n",
      "3      2018-03-01   19:13:37      20:00:00         07:00:00  11:00:00   \n",
      "4      2018-03-01   21:09:15      22:00:00         09:00:00  12:00:00   \n",
      "...           ...        ...           ...              ...       ...   \n",
      "326856 2018-03-31   13:47:52      15:00:00         07:00:00  12:00:00   \n",
      "326857 2018-03-31   12:42:35      13:00:00         07:00:00  13:00:00   \n",
      "326859 2018-03-31   08:55:57      11:00:00         07:00:00  15:00:00   \n",
      "326860 2018-03-31   13:31:01      14:00:00         07:00:00  11:00:00   \n",
      "326861 2018-03-31   18:21:16      14:00:00         08:00:00  13:00:00   \n",
      "\n",
      "        order_day  order_hour  delivery_time_hours  \n",
      "0               1          11         0.000000e+00  \n",
      "1               1           9         0.000000e+00  \n",
      "2               1          21        -2.777778e-10  \n",
      "3               1          19        -2.777778e-10  \n",
      "4               1          21        -2.777778e-10  \n",
      "...           ...         ...                  ...  \n",
      "326856         31          13        -2.777778e-10  \n",
      "326857         31          12         0.000000e+00  \n",
      "326859         31           8         0.000000e+00  \n",
      "326860         31          13        -2.777778e-10  \n",
      "326861         31          18        -2.777778e-10  \n",
      "\n",
      "[252886 rows x 8 columns]\n"
     ]
    }
   ],
   "source": [
    "merged_data_filtered_2['delivery_time'] = pd.to_timedelta(merged_data_filtered_2['delivery_time'], errors='coerce')\n",
    "merged_data_filtered_2['delivery_time_hours'] = merged_data_filtered_2['delivery_time'].apply(lambda x: x.total_seconds() / 3600)\n",
    "print(merged_data_filtered_2[['order_date', 'order_time', 'ship_out_time', 'arr_station_time', 'arr_time', 'order_day', 'order_hour', 'delivery_time_hours']])"
   ]
  },
  {
   "cell_type": "markdown",
   "id": "607f416f",
   "metadata": {},
   "source": [
    "16. Find the total number of packages between the origin distribution center and the destination center. What do you observe from those pairs of highest traffic? <br>\n",
    "Hint: You may group by the distribution centers and count the unique number of packages.<br>\n",
    "You can use reset_index() method to turn the groupby aggregation results into a regular dataframe for later operations."
   ]
  },
  {
   "cell_type": "code",
   "execution_count": 112,
   "id": "6beaa5ac",
   "metadata": {
    "scrolled": true
   },
   "outputs": [
    {
     "name": "stdout",
     "output_type": "stream",
     "text": [
      "     dc_ori  dc_des  package_ID\n",
      "0         1       1         409\n",
      "1         1      18           1\n",
      "2         1      31           8\n",
      "3         1      39          24\n",
      "4         1      46           1\n",
      "..      ...     ...         ...\n",
      "621      65      60           4\n",
      "622      65      61           2\n",
      "623      65      64          15\n",
      "624      66      20         125\n",
      "625      67      67         405\n",
      "\n",
      "[626 rows x 3 columns]\n"
     ]
    }
   ],
   "source": [
    "package_counts = merged_data_filtered_2.groupby(['dc_ori', 'dc_des'])['package_ID'].nunique().reset_index()\n",
    "print(package_counts)"
   ]
  },
  {
   "cell_type": "markdown",
   "id": "11d6ed80",
   "metadata": {},
   "source": [
    "17. Now let's go back to the original orders table. Find the orders where gift_item equals to 1 (use filtering). What do you find about the orignal_unit_price and final_unit_price in the filtered dataset? Do we consider the 0 price as data errors?"
   ]
  },
  {
   "cell_type": "code",
   "execution_count": 113,
   "id": "9f2345c0",
   "metadata": {},
   "outputs": [
    {
     "name": "stdout",
     "output_type": "stream",
     "text": [
      "        original_unit_price  final_unit_price\n",
      "6                       0.0               0.0\n",
      "10                      0.0               0.0\n",
      "23                      0.0               0.0\n",
      "25                      0.0               0.0\n",
      "26                      0.0               0.0\n",
      "...                     ...               ...\n",
      "549939                  0.0               0.0\n",
      "549980                  0.0              -3.0\n",
      "549981                  0.0               0.0\n",
      "549983                  0.0              -1.0\n",
      "549984                  0.0              -1.0\n",
      "\n",
      "[94606 rows x 2 columns]\n"
     ]
    }
   ],
   "source": [
    "gift_orders = order[order['gift_item'] == 1]\n",
    "print(gift_orders[['original_unit_price', 'final_unit_price']])"
   ]
  },
  {
   "cell_type": "markdown",
   "id": "b7f3a034",
   "metadata": {},
   "source": [
    "18. Still use the original order table. Filter the orders of a product (sku: 'a0e49f9966') on '2018-3-15'. Calculate the sales. <br>\n",
    "Hint: we can multiply the quantity and final price columns together. <br>\n",
    "The outcome will be a pandas series. <br>\n",
    "The sum of the series will be the total sales. "
   ]
  },
  {
   "cell_type": "code",
   "execution_count": 114,
   "id": "f54f17b5",
   "metadata": {},
   "outputs": [
    {
     "name": "stdout",
     "output_type": "stream",
     "text": [
      "Series([], dtype: float64)\n",
      "Total Sales: 0.0\n"
     ]
    }
   ],
   "source": [
    "product_orders = order[(order['sku_ID'] == 'a0e49f9966') & (order['order_date'] == '2018-03-15')]\n",
    "sales = product_orders['quantity'] * product_orders['final_unit_price']\n",
    "print(sales)\n",
    "total_sales = sales.sum()\n",
    "print(\"Total Sales:\", total_sales)"
   ]
  },
  {
   "cell_type": "markdown",
   "id": "8564c8a0",
   "metadata": {},
   "source": [
    "19. Now let's move to the user table. <br>\n",
    "Create a pivot table that counts the customers based on their user_level and education."
   ]
  },
  {
   "cell_type": "code",
   "execution_count": 115,
   "id": "934d9dd8",
   "metadata": {},
   "outputs": [
    {
     "name": "stdout",
     "output_type": "stream",
     "text": [
      "education      -1     1      2      3      4\n",
      "user_level                                  \n",
      "-1           2294     0      0      9      0\n",
      " 0            145     0      7      8      1\n",
      " 1          66391  3001  24182  35486    369\n",
      " 2          28310  3270  32953  75907   1419\n",
      " 3           8201  1260  13418  68944   4979\n",
      " 4           4023   629   3606  37548  39922\n",
      " 10          1005     0      2      6      3\n"
     ]
    }
   ],
   "source": [
    "pivot_table_counts = pd.pivot_table(user, values='user_ID', index='user_level', columns='education', aggfunc='count', fill_value=0)\n",
    "print(pivot_table_counts)"
   ]
  },
  {
   "cell_type": "markdown",
   "id": "4f8df9fa",
   "metadata": {},
   "source": [
    "20. Answer one of your descriptive questions using groupby or pivot table."
   ]
  },
  {
   "cell_type": "code",
   "execution_count": 116,
   "id": "bce931a8",
   "metadata": {},
   "outputs": [
    {
     "name": "stdout",
     "output_type": "stream",
     "text": [
      "Overall Average Quantity: 1.2166697879412134\n",
      "Average Quantity by Order Type (1P or 3P) using Pivot Table:\n",
      "      quantity\n",
      "type          \n",
      "1     1.230480\n",
      "2     1.202811\n",
      "T-Statistic: nan, P-value: nan\n",
      "There is no significant difference in order volumes between 1P and 3P orders.\n"
     ]
    }
   ],
   "source": [
    "# How many items, on average, did customers buy across all order types (1P or 3P) (quantity field)? \n",
    "# Do the typical order volumes for these two kinds of orders differ significantly? (orders table)? \n",
    "import pandas as pd\n",
    "from scipy import stats\n",
    "\n",
    "# Load the orders DataFrame\n",
    "orders = pd.read_csv('JD_order_data.csv')\n",
    "\n",
    "# Calculate the overall average quantity\n",
    "overall_avg_quantity = orders['quantity'].mean()\n",
    "\n",
    "# Create a pivot table to calculate the average quantity by order type\n",
    "pivot_table = orders.pivot_table(values='quantity', index='type', aggfunc='mean')\n",
    "\n",
    "print(f\"Overall Average Quantity: {overall_avg_quantity}\")\n",
    "print(\"Average Quantity by Order Type (1P or 3P) using Pivot Table:\")\n",
    "print(pivot_table)\n",
    "\n",
    "# Extract quantities for each order type\n",
    "quantity_1P = orders[orders['type'] == '1P']['quantity']\n",
    "quantity_3P = orders[orders['type'] == '3P']['quantity']\n",
    "\n",
    "# Perform a t-test\n",
    "t_stat, p_value = stats.ttest_ind(quantity_1P, quantity_3P, equal_var=False)\n",
    "\n",
    "print(f\"T-Statistic: {t_stat}, P-value: {p_value}\")\n",
    "\n",
    "# Interpretation of results\n",
    "if p_value < 0.05:\n",
    "    print(\"There is a significant difference in order volumes between 1P and 3P orders.\")\n",
    "else:\n",
    "    print(\"There is no significant difference in order volumes between 1P and 3P orders.\")"
   ]
  },
  {
   "cell_type": "markdown",
   "id": "5f87e3ec",
   "metadata": {},
   "source": [
    "### Assignment 10 starts here. Q21-Q30.\n",
    "We now further explore the data, especially with graphs. We do not require formatting details of graph. The basics are enough."
   ]
  },
  {
   "cell_type": "markdown",
   "id": "412b9f1d",
   "metadata": {},
   "source": [
    "21. Let's first look at the user table. Use info() to display basic information about the table. Check the Dtype column. What is the data type for variable user_level? This data type does not fit our description about this variable: <br>\n",
    "\"taking on a value of 0, 1, 2, 3, or 4, where a higher user_level is associated with a higher total purchase value in the past. For users who are enterprise users (e.g., small shops in rural areas or small businesses), the corresponding\n",
    "user_level takes on a value of 10. However, for first-time purchasers, their user_level takes on\n",
    "the value −1.\" <br>\n",
    "The numbers do not have a numeric meaning, but refer to categories of customers. So, we would like to change the data type to categorical. Please use .astype('string') to change the data type of user_level.<br>\n",
    "You may find similar situation for variables: education, city_level and purchase_power. Change their data type too."
   ]
  },
  {
   "cell_type": "code",
   "execution_count": 117,
   "id": "604e4700",
   "metadata": {},
   "outputs": [],
   "source": [
    "import pandas as pd\n",
    "import numpy as np\n",
    "user = pd.read_csv(\"JD_user_data.csv\")"
   ]
  },
  {
   "cell_type": "code",
   "execution_count": 118,
   "id": "be46b91f",
   "metadata": {},
   "outputs": [
    {
     "data": {
      "text/html": [
       "<div>\n",
       "<style scoped>\n",
       "    .dataframe tbody tr th:only-of-type {\n",
       "        vertical-align: middle;\n",
       "    }\n",
       "\n",
       "    .dataframe tbody tr th {\n",
       "        vertical-align: top;\n",
       "    }\n",
       "\n",
       "    .dataframe thead th {\n",
       "        text-align: right;\n",
       "    }\n",
       "</style>\n",
       "<table border=\"1\" class=\"dataframe\">\n",
       "  <thead>\n",
       "    <tr style=\"text-align: right;\">\n",
       "      <th></th>\n",
       "      <th>user_ID</th>\n",
       "      <th>user_level</th>\n",
       "      <th>first_order_month</th>\n",
       "      <th>plus</th>\n",
       "      <th>gender</th>\n",
       "      <th>age</th>\n",
       "      <th>marital_status</th>\n",
       "      <th>education</th>\n",
       "      <th>city_level</th>\n",
       "      <th>purchase_power</th>\n",
       "    </tr>\n",
       "  </thead>\n",
       "  <tbody>\n",
       "    <tr>\n",
       "      <th>0</th>\n",
       "      <td>000089d6a6</td>\n",
       "      <td>1</td>\n",
       "      <td>2017-08</td>\n",
       "      <td>0</td>\n",
       "      <td>F</td>\n",
       "      <td>26-35</td>\n",
       "      <td>S</td>\n",
       "      <td>3</td>\n",
       "      <td>4</td>\n",
       "      <td>3</td>\n",
       "    </tr>\n",
       "    <tr>\n",
       "      <th>1</th>\n",
       "      <td>0000babd1f</td>\n",
       "      <td>1</td>\n",
       "      <td>2018-03</td>\n",
       "      <td>0</td>\n",
       "      <td>U</td>\n",
       "      <td>U</td>\n",
       "      <td>U</td>\n",
       "      <td>-1</td>\n",
       "      <td>-1</td>\n",
       "      <td>-1</td>\n",
       "    </tr>\n",
       "    <tr>\n",
       "      <th>2</th>\n",
       "      <td>0000bc018b</td>\n",
       "      <td>3</td>\n",
       "      <td>2016-06</td>\n",
       "      <td>0</td>\n",
       "      <td>F</td>\n",
       "      <td>&gt;=56</td>\n",
       "      <td>M</td>\n",
       "      <td>3</td>\n",
       "      <td>2</td>\n",
       "      <td>3</td>\n",
       "    </tr>\n",
       "    <tr>\n",
       "      <th>3</th>\n",
       "      <td>0000d0e5ab</td>\n",
       "      <td>3</td>\n",
       "      <td>2014-06</td>\n",
       "      <td>0</td>\n",
       "      <td>M</td>\n",
       "      <td>26-35</td>\n",
       "      <td>M</td>\n",
       "      <td>3</td>\n",
       "      <td>2</td>\n",
       "      <td>2</td>\n",
       "    </tr>\n",
       "    <tr>\n",
       "      <th>4</th>\n",
       "      <td>0000dce472</td>\n",
       "      <td>3</td>\n",
       "      <td>2012-08</td>\n",
       "      <td>1</td>\n",
       "      <td>U</td>\n",
       "      <td>U</td>\n",
       "      <td>U</td>\n",
       "      <td>-1</td>\n",
       "      <td>-1</td>\n",
       "      <td>-1</td>\n",
       "    </tr>\n",
       "  </tbody>\n",
       "</table>\n",
       "</div>"
      ],
      "text/plain": [
       "      user_ID  user_level first_order_month  plus gender    age  \\\n",
       "0  000089d6a6           1           2017-08     0      F  26-35   \n",
       "1  0000babd1f           1           2018-03     0      U      U   \n",
       "2  0000bc018b           3           2016-06     0      F   >=56   \n",
       "3  0000d0e5ab           3           2014-06     0      M  26-35   \n",
       "4  0000dce472           3           2012-08     1      U      U   \n",
       "\n",
       "  marital_status  education  city_level  purchase_power  \n",
       "0              S          3           4               3  \n",
       "1              U         -1          -1              -1  \n",
       "2              M          3           2               3  \n",
       "3              M          3           2               2  \n",
       "4              U         -1          -1              -1  "
      ]
     },
     "execution_count": 118,
     "metadata": {},
     "output_type": "execute_result"
    }
   ],
   "source": [
    "user.head()"
   ]
  },
  {
   "cell_type": "code",
   "execution_count": 119,
   "id": "3a75fa0c",
   "metadata": {},
   "outputs": [
    {
     "name": "stdout",
     "output_type": "stream",
     "text": [
      "<class 'pandas.core.frame.DataFrame'>\n",
      "RangeIndex: 457298 entries, 0 to 457297\n",
      "Data columns (total 10 columns):\n",
      " #   Column             Non-Null Count   Dtype \n",
      "---  ------             --------------   ----- \n",
      " 0   user_ID            457298 non-null  object\n",
      " 1   user_level         457298 non-null  int64 \n",
      " 2   first_order_month  457298 non-null  object\n",
      " 3   plus               457298 non-null  int64 \n",
      " 4   gender             457298 non-null  object\n",
      " 5   age                457298 non-null  object\n",
      " 6   marital_status     457298 non-null  object\n",
      " 7   education          457298 non-null  int64 \n",
      " 8   city_level         457298 non-null  int64 \n",
      " 9   purchase_power     457298 non-null  int64 \n",
      "dtypes: int64(5), object(5)\n",
      "memory usage: 34.9+ MB\n"
     ]
    }
   ],
   "source": [
    "user.info()"
   ]
  },
  {
   "cell_type": "code",
   "execution_count": 120,
   "id": "fa0fa540",
   "metadata": {},
   "outputs": [
    {
     "name": "stdout",
     "output_type": "stream",
     "text": [
      "<class 'pandas.core.frame.DataFrame'>\n",
      "RangeIndex: 457298 entries, 0 to 457297\n",
      "Data columns (total 10 columns):\n",
      " #   Column             Non-Null Count   Dtype   \n",
      "---  ------             --------------   -----   \n",
      " 0   user_ID            457298 non-null  object  \n",
      " 1   user_level         457298 non-null  category\n",
      " 2   first_order_month  457298 non-null  object  \n",
      " 3   plus               457298 non-null  int64   \n",
      " 4   gender             457298 non-null  object  \n",
      " 5   age                457298 non-null  object  \n",
      " 6   marital_status     457298 non-null  object  \n",
      " 7   education          457298 non-null  category\n",
      " 8   city_level         457298 non-null  category\n",
      " 9   purchase_power     457298 non-null  category\n",
      "dtypes: category(4), int64(1), object(5)\n",
      "memory usage: 22.7+ MB\n"
     ]
    }
   ],
   "source": [
    "user = user.astype({'user_level':'category','education':'category','city_level':'category','purchase_power':'category' })\n",
    "user.info()"
   ]
  },
  {
   "cell_type": "markdown",
   "id": "981de815",
   "metadata": {},
   "source": [
    "22. 1) The meaning of '-1' for user_level is new customer. We will replace '-1' with 'New' and '10' with 'Bus'. Notice that -1 now changes to a string '-1'."
   ]
  },
  {
   "cell_type": "code",
   "execution_count": 121,
   "id": "1389331b",
   "metadata": {},
   "outputs": [
    {
     "name": "stdout",
     "output_type": "stream",
     "text": [
      "0         1\n",
      "1         1\n",
      "2         3\n",
      "3         3\n",
      "4         3\n",
      "         ..\n",
      "457293    1\n",
      "457294    4\n",
      "457295    3\n",
      "457296    1\n",
      "457297    1\n",
      "Name: user_level, Length: 457298, dtype: category\n",
      "Categories (7, int64): [-1, 0, 1, 2, 3, 4, 10]\n"
     ]
    }
   ],
   "source": [
    "user['user_level'].replace({'-1':'New', '10':'Bus'}, inplace =True)\n",
    "print(user['user_level'])"
   ]
  },
  {
   "cell_type": "markdown",
   "id": "7d690477",
   "metadata": {},
   "source": [
    "2) The meaning of -1 in education, city_level and purchase_power is missing values. We will replace it with 'U', as missing value indicator of other variables like 'age', 'gender', etc."
   ]
  },
  {
   "cell_type": "code",
   "execution_count": 122,
   "id": "1160a43b",
   "metadata": {
    "scrolled": true
   },
   "outputs": [
    {
     "name": "stdout",
     "output_type": "stream",
     "text": [
      "0         3\n",
      "1        -1\n",
      "2         3\n",
      "3         3\n",
      "4        -1\n",
      "         ..\n",
      "457293   -1\n",
      "457294    3\n",
      "457295    2\n",
      "457296   -1\n",
      "457297   -1\n",
      "Name: education, Length: 457298, dtype: category\n",
      "Categories (5, int64): [-1, 1, 2, 3, 4]\n",
      "0         4\n",
      "1        -1\n",
      "2         2\n",
      "3         2\n",
      "4        -1\n",
      "         ..\n",
      "457293   -1\n",
      "457294    1\n",
      "457295    4\n",
      "457296   -1\n",
      "457297    3\n",
      "Name: city_level, Length: 457298, dtype: category\n",
      "Categories (6, int64): [-1, 1, 2, 3, 4, 5]\n",
      "0         3\n",
      "1        -1\n",
      "2         3\n",
      "3         2\n",
      "4        -1\n",
      "         ..\n",
      "457293   -1\n",
      "457294    2\n",
      "457295    2\n",
      "457296   -1\n",
      "457297    3\n",
      "Name: purchase_power, Length: 457298, dtype: category\n",
      "Categories (6, int64): [-1, 1, 2, 3, 4, 5]\n"
     ]
    }
   ],
   "source": [
    "user['education'].replace({'-1': 'U'}, inplace=True) \n",
    "user['city_level'].replace({'-1': 'U'}, inplace=True) \n",
    "user['purchase_power'].replace({'-1': 'U'}, inplace=True) \n",
    "print(user['education'])\n",
    "print(user['city_level'])\n",
    "print(user['purchase_power'])"
   ]
  },
  {
   "cell_type": "markdown",
   "id": "c42dd2fb",
   "metadata": {},
   "source": [
    "23. Let's move to the user table. Almost all user features are categorical variables. Make bar graphs to examine the distribution of \"user_level', 'plus', 'gender', 'age', 'marital_status', 'education', 'city_level', and 'purchase_power'. You may consider using a loop. Based on the graphs, you may answer questions like these:\n",
    " 1. What is the education level of the majority?\n",
    " 2. Which age level has the most users?"
   ]
  },
  {
   "cell_type": "code",
   "execution_count": 123,
   "id": "affa58bf",
   "metadata": {},
   "outputs": [
    {
     "data": {
      "text/plain": [
       "<Axes: >"
      ]
     },
     "execution_count": 123,
     "metadata": {},
     "output_type": "execute_result"
    },
    {
     "data": {
      "text/plain": [
       "Text(0.5, 0, 'user_level')"
      ]
     },
     "execution_count": 123,
     "metadata": {},
     "output_type": "execute_result"
    },
    {
     "data": {
      "text/plain": [
       "Text(0, 0.5, 'Frequency')"
      ]
     },
     "execution_count": 123,
     "metadata": {},
     "output_type": "execute_result"
    },
    {
     "data": {
      "text/plain": [
       "Text(0.5, 1.0, 'Distribution of user_level')"
      ]
     },
     "execution_count": 123,
     "metadata": {},
     "output_type": "execute_result"
    },
    {
     "data": {
      "image/png": "[encoded data removed]",
      "text/plain": [
       "<Figure size 1000x500 with 1 Axes>"
      ]
     },
     "metadata": {},
     "output_type": "display_data"
    },
    {
     "data": {
      "text/plain": [
       "<Axes: >"
      ]
     },
     "execution_count": 123,
     "metadata": {},
     "output_type": "execute_result"
    },
    {
     "data": {
      "text/plain": [
       "Text(0.5, 0, 'plus')"
      ]
     },
     "execution_count": 123,
     "metadata": {},
     "output_type": "execute_result"
    },
    {
     "data": {
      "text/plain": [
       "Text(0, 0.5, 'Frequency')"
      ]
     },
     "execution_count": 123,
     "metadata": {},
     "output_type": "execute_result"
    },
    {
     "data": {
      "text/plain": [
       "Text(0.5, 1.0, 'Distribution of plus')"
      ]
     },
     "execution_count": 123,
     "metadata": {},
     "output_type": "execute_result"
    },
    {
     "data": {
      "image/png": "[encoded data removed]",
      "text/plain": [
       "<Figure size 1000x500 with 1 Axes>"
      ]
     },
     "metadata": {},
     "output_type": "display_data"
    },
    {
     "data": {
      "text/plain": [
       "<Axes: >"
      ]
     },
     "execution_count": 123,
     "metadata": {},
     "output_type": "execute_result"
    },
    {
     "data": {
      "text/plain": [
       "Text(0.5, 0, 'gender')"
      ]
     },
     "execution_count": 123,
     "metadata": {},
     "output_type": "execute_result"
    },
    {
     "data": {
      "text/plain": [
       "Text(0, 0.5, 'Frequency')"
      ]
     },
     "execution_count": 123,
     "metadata": {},
     "output_type": "execute_result"
    },
    {
     "data": {
      "text/plain": [
       "Text(0.5, 1.0, 'Distribution of gender')"
      ]
     },
     "execution_count": 123,
     "metadata": {},
     "output_type": "execute_result"
    },
    {
     "data": {
      "image/png": "[encoded data removed]",
      "text/plain": [
       "<Figure size 1000x500 with 1 Axes>"
      ]
     },
     "metadata": {},
     "output_type": "display_data"
    },
    {
     "data": {
      "text/plain": [
       "<Axes: >"
      ]
     },
     "execution_count": 123,
     "metadata": {},
     "output_type": "execute_result"
    },
    {
     "data": {
      "text/plain": [
       "Text(0.5, 0, 'age')"
      ]
     },
     "execution_count": 123,
     "metadata": {},
     "output_type": "execute_result"
    },
    {
     "data": {
      "text/plain": [
       "Text(0, 0.5, 'Frequency')"
      ]
     },
     "execution_count": 123,
     "metadata": {},
     "output_type": "execute_result"
    },
    {
     "data": {
      "text/plain": [
       "Text(0.5, 1.0, 'Distribution of age')"
      ]
     },
     "execution_count": 123,
     "metadata": {},
     "output_type": "execute_result"
    },
    {
     "data": {
      "image/png": "[encoded data removed]",
      "text/plain": [
       "<Figure size 1000x500 with 1 Axes>"
      ]
     },
     "metadata": {},
     "output_type": "display_data"
    },
    {
     "data": {
      "text/plain": [
       "<Axes: >"
      ]
     },
     "execution_count": 123,
     "metadata": {},
     "output_type": "execute_result"
    },
    {
     "data": {
      "text/plain": [
       "Text(0.5, 0, 'marital_status')"
      ]
     },
     "execution_count": 123,
     "metadata": {},
     "output_type": "execute_result"
    },
    {
     "data": {
      "text/plain": [
       "Text(0, 0.5, 'Frequency')"
      ]
     },
     "execution_count": 123,
     "metadata": {},
     "output_type": "execute_result"
    },
    {
     "data": {
      "text/plain": [
       "Text(0.5, 1.0, 'Distribution of marital_status')"
      ]
     },
     "execution_count": 123,
     "metadata": {},
     "output_type": "execute_result"
    },
    {
     "data": {
      "image/png": "[encoded data removed]",
      "text/plain": [
       "<Figure size 1000x500 with 1 Axes>"
      ]
     },
     "metadata": {},
     "output_type": "display_data"
    },
    {
     "data": {
      "text/plain": [
       "<Axes: >"
      ]
     },
     "execution_count": 123,
     "metadata": {},
     "output_type": "execute_result"
    },
    {
     "data": {
      "text/plain": [
       "Text(0.5, 0, 'education')"
      ]
     },
     "execution_count": 123,
     "metadata": {},
     "output_type": "execute_result"
    },
    {
     "data": {
      "text/plain": [
       "Text(0, 0.5, 'Frequency')"
      ]
     },
     "execution_count": 123,
     "metadata": {},
     "output_type": "execute_result"
    },
    {
     "data": {
      "text/plain": [
       "Text(0.5, 1.0, 'Distribution of education')"
      ]
     },
     "execution_count": 123,
     "metadata": {},
     "output_type": "execute_result"
    },
    {
     "data": {
      "image/png": "[encoded data removed]",
      "text/plain": [
       "<Figure size 1000x500 with 1 Axes>"
      ]
     },
     "metadata": {},
     "output_type": "display_data"
    },
    {
     "data": {
      "text/plain": [
       "<Axes: >"
      ]
     },
     "execution_count": 123,
     "metadata": {},
     "output_type": "execute_result"
    },
    {
     "data": {
      "text/plain": [
       "Text(0.5, 0, 'city_level')"
      ]
     },
     "execution_count": 123,
     "metadata": {},
     "output_type": "execute_result"
    },
    {
     "data": {
      "text/plain": [
       "Text(0, 0.5, 'Frequency')"
      ]
     },
     "execution_count": 123,
     "metadata": {},
     "output_type": "execute_result"
    },
    {
     "data": {
      "text/plain": [
       "Text(0.5, 1.0, 'Distribution of city_level')"
      ]
     },
     "execution_count": 123,
     "metadata": {},
     "output_type": "execute_result"
    },
    {
     "data": {
      "image/png": "[encoded data removed]",
      "text/plain": [
       "<Figure size 1000x500 with 1 Axes>"
      ]
     },
     "metadata": {},
     "output_type": "display_data"
    },
    {
     "data": {
      "text/plain": [
       "<Axes: >"
      ]
     },
     "execution_count": 123,
     "metadata": {},
     "output_type": "execute_result"
    },
    {
     "data": {
      "text/plain": [
       "Text(0.5, 0, 'purchase_power')"
      ]
     },
     "execution_count": 123,
     "metadata": {},
     "output_type": "execute_result"
    },
    {
     "data": {
      "text/plain": [
       "Text(0, 0.5, 'Frequency')"
      ]
     },
     "execution_count": 123,
     "metadata": {},
     "output_type": "execute_result"
    },
    {
     "data": {
      "text/plain": [
       "Text(0.5, 1.0, 'Distribution of purchase_power')"
      ]
     },
     "execution_count": 123,
     "metadata": {},
     "output_type": "execute_result"
    },
    {
     "data": {
      "image/png": "[encoded data removed]",
      "text/plain": [
       "<Figure size 1000x500 with 1 Axes>"
      ]
     },
     "metadata": {},
     "output_type": "display_data"
    }
   ],
   "source": [
    "import pandas as pd\n",
    "import matplotlib.pyplot as plt\n",
    "import numpy as np\n",
    "user = pd.read_csv(\"JD_user_data.csv\")\n",
    "\n",
    "columns_to_plot = ['user_level', 'plus', 'gender', 'age', 'marital_status', 'education', 'city_level', 'purchase_power']\n",
    "\n",
    "for column in columns_to_plot:\n",
    "\n",
    "    value_counts = user[column].value_counts()\n",
    "\n",
    "   \n",
    "    value_counts.plot(kind='bar', figsize=(10, 5))\n",
    "\n",
    "    plt.xlabel(column)\n",
    "    plt.ylabel('Frequency')\n",
    "    plt.title(f'Distribution of {column}')\n",
    "\n",
    "    plt.show()\n"
   ]
  },
  {
   "cell_type": "code",
   "execution_count": null,
   "id": "69771fe7",
   "metadata": {},
   "outputs": [],
   "source": [
    "The education level od majority is 3"
   ]
  },
  {
   "cell_type": "code",
   "execution_count": null,
   "id": "bec145bf",
   "metadata": {},
   "outputs": [],
   "source": [
    "Age level of 26-35 have many users"
   ]
  },
  {
   "cell_type": "markdown",
   "id": "da17ae2a",
   "metadata": {},
   "source": [
    "25. Next we move to the table that resulted from Q11-Q15. Sum the quantity by day (we created this variable in Q14.) and save the results.\n",
    "Create a line graph based on it. Hint: The outcome of the sum is a Pandas Series. Use the .index to get the day and .values to get the sum for the plot.<br>\n",
    "Or you may use reset_index() to turn the results to a dataframe.\n",
    "Which day has the most quantity sold? "
   ]
  },
  {
   "cell_type": "code",
   "execution_count": 124,
   "id": "31bf318c",
   "metadata": {
    "scrolled": true
   },
   "outputs": [
    {
     "data": {
      "text/plain": [
       "[<matplotlib.lines.Line2D at 0x17f008e2950>]"
      ]
     },
     "execution_count": 124,
     "metadata": {},
     "output_type": "execute_result"
    },
    {
     "data": {
      "image/png": "[encoded data removed]",
      "text/plain": [
       "<Figure size 640x480 with 1 Axes>"
      ]
     },
     "metadata": {},
     "output_type": "display_data"
    }
   ],
   "source": [
    "dailyq = merged_data_filtered_2.groupby('order_day')['quantity'].sum()\n",
    "plt.plot(dailyq.index, dailyq.values) "
   ]
  },
  {
   "cell_type": "markdown",
   "id": "9d3763ce",
   "metadata": {},
   "source": [
    "26. Repeat Q25 for variable 'order_hour' we created in Q14. When is the peak time for orders during a day? Can you describe the customer order trend over a day's time?"
   ]
  },
  {
   "cell_type": "code",
   "execution_count": 125,
   "id": "bef7e971",
   "metadata": {},
   "outputs": [
    {
     "data": {
      "text/plain": [
       "<Figure size 1200x600 with 0 Axes>"
      ]
     },
     "execution_count": 125,
     "metadata": {},
     "output_type": "execute_result"
    },
    {
     "data": {
      "text/plain": [
       "[<matplotlib.lines.Line2D at 0x17f459ee9d0>]"
      ]
     },
     "execution_count": 125,
     "metadata": {},
     "output_type": "execute_result"
    },
    {
     "data": {
      "text/plain": [
       "Text(0.5, 1.0, 'Customer Order Trend Over a Day')"
      ]
     },
     "execution_count": 125,
     "metadata": {},
     "output_type": "execute_result"
    },
    {
     "data": {
      "text/plain": [
       "Text(0.5, 0, 'Hour of the Day')"
      ]
     },
     "execution_count": 125,
     "metadata": {},
     "output_type": "execute_result"
    },
    {
     "data": {
      "text/plain": [
       "Text(0, 0.5, 'Total Quantity Ordered')"
      ]
     },
     "execution_count": 125,
     "metadata": {},
     "output_type": "execute_result"
    },
    {
     "data": {
      "image/png": "[encoded data removed]",
      "text/plain": [
       "<Figure size 1200x600 with 1 Axes>"
      ]
     },
     "metadata": {},
     "output_type": "display_data"
    }
   ],
   "source": [
    "\n",
    "dailyh = merged_data_filtered_2.groupby('order_hour')['quantity'].sum()\n",
    "\n",
    "plt.figure(figsize=(12, 6)) \n",
    "plt.plot(dailyh.index, dailyh.values, marker='o')  # Line plot with markers\n",
    "\n",
    "plt.title('Customer Order Trend Over a Day')\n",
    "plt.xlabel('Hour of the Day')\n",
    "plt.ylabel('Total Quantity Ordered')\n",
    "\n",
    "plt.show()"
   ]
  },
  {
   "cell_type": "markdown",
   "id": "4a661088",
   "metadata": {},
   "source": [
    "27. Examine variable original_unit_price .<br>"
   ]
  },
  {
   "cell_type": "markdown",
   "id": "3e503d07",
   "metadata": {},
   "source": [
    "1) Using describe() to check the stastitics. What is min, max and median?"
   ]
  },
  {
   "cell_type": "code",
   "execution_count": 126,
   "id": "c19e4bb1",
   "metadata": {},
   "outputs": [
    {
     "name": "stdout",
     "output_type": "stream",
     "text": [
      "Min: 4.0\n",
      "Max: 7130.0\n",
      "Median: 89.0\n"
     ]
    }
   ],
   "source": [
    "statistics = merged_data_filtered_2['original_unit_price'].describe()\n",
    "\n",
    "# Extract min, max, and median\n",
    "min_value = statistics['min']\n",
    "max_value = statistics['max']\n",
    "median_value = statistics['50%']  # 50% corresponds to the median\n",
    "\n",
    "# Print the results\n",
    "print(f\"Min: {min_value}\")\n",
    "print(f\"Max: {max_value}\")\n",
    "print(f\"Median: {median_value}\")"
   ]
  },
  {
   "cell_type": "markdown",
   "id": "ce6b4b9c",
   "metadata": {},
   "source": [
    "2) Find out the percentage of observations whose original_unit_price is greater than 350. Delete those observations using filtering. We will use the filtered dataset from now on."
   ]
  },
  {
   "cell_type": "code",
   "execution_count": 127,
   "id": "aacc2f83",
   "metadata": {},
   "outputs": [
    {
     "name": "stdout",
     "output_type": "stream",
     "text": [
      "Percentage of observations with original_unit_price > 350: 0.73%\n"
     ]
    }
   ],
   "source": [
    "\n",
    "# Calculate the percentage of observations with original_unit_price greater than 350\n",
    "total_observations = len(merged_data_filtered_2)\n",
    "percentage_above_350 = (len(merged_data_filtered_2[merged_data_filtered_2['original_unit_price'] > 350]) / total_observations) * 100\n",
    "\n",
    "# Print the percentage\n",
    "print(f\"Percentage of observations with original_unit_price > 350: {percentage_above_350:.2f}%\")\n",
    "\n",
    "# Filter the DataFrame to keep only observations with original_unit_price <= 350\n",
    "filtered_dataset = merged_data_filtered_2[merged_data_filtered_2['original_unit_price'] <= 350]\n",
    "\n",
    "# Now you can use filtered_dataset for further analysis"
   ]
  },
  {
   "cell_type": "markdown",
   "id": "0632e2a3",
   "metadata": {},
   "source": [
    "3) Examine the distribution of original_unit_price, using bins range from 0 to 350, width 10. Which price range has the most orders?"
   ]
  },
  {
   "cell_type": "code",
   "execution_count": 128,
   "id": "8121b9c5",
   "metadata": {},
   "outputs": [
    {
     "name": "stdout",
     "output_type": "stream",
     "text": [
      "The price range with the most orders is (70, 80]\n"
     ]
    },
    {
     "name": "stderr",
     "output_type": "stream",
     "text": [
      "C:\\Users\\home\\AppData\\Local\\Temp\\ipykernel_15280\\28040161.py:5: SettingWithCopyWarning: \n",
      "A value is trying to be set on a copy of a slice from a DataFrame.\n",
      "Try using .loc[row_indexer,col_indexer] = value instead\n",
      "\n",
      "See the caveats in the documentation: https://pandas.pydata.org/pandas-docs/stable/user_guide/indexing.html#returning-a-view-versus-a-copy\n",
      "  filtered_dataset['price_range'] = pd.cut(filtered_dataset['original_unit_price'], bins=bins)\n"
     ]
    },
    {
     "data": {
      "text/plain": [
       "<Figure size 1000x600 with 0 Axes>"
      ]
     },
     "execution_count": 128,
     "metadata": {},
     "output_type": "execute_result"
    },
    {
     "data": {
      "text/plain": [
       "<BarContainer object of 35 artists>"
      ]
     },
     "execution_count": 128,
     "metadata": {},
     "output_type": "execute_result"
    },
    {
     "data": {
      "text/plain": [
       "Text(0.5, 0, 'Price Range')"
      ]
     },
     "execution_count": 128,
     "metadata": {},
     "output_type": "execute_result"
    },
    {
     "data": {
      "text/plain": [
       "Text(0, 0.5, 'Number of Orders')"
      ]
     },
     "execution_count": 128,
     "metadata": {},
     "output_type": "execute_result"
    },
    {
     "data": {
      "text/plain": [
       "Text(0.5, 1.0, 'Distribution of Original Unit Price')"
      ]
     },
     "execution_count": 128,
     "metadata": {},
     "output_type": "execute_result"
    },
    {
     "data": {
      "image/png": "[encoded data removed]",
      "text/plain": [
       "<Figure size 1000x600 with 1 Axes>"
      ]
     },
     "metadata": {},
     "output_type": "display_data"
    }
   ],
   "source": [
    "# Set up bins\n",
    "bins = range(0, 360, 10)\n",
    "\n",
    "# Create a new column 'price_range' to categorize original_unit_price into bins\n",
    "filtered_dataset['price_range'] = pd.cut(filtered_dataset['original_unit_price'], bins=bins)\n",
    "\n",
    "# Get the counts for each price range\n",
    "price_range_counts = filtered_dataset['price_range'].value_counts()\n",
    "\n",
    "# Find the price range with the most orders\n",
    "most_orders_price_range = price_range_counts.idxmax()\n",
    "\n",
    "# Print the result\n",
    "print(f\"The price range with the most orders is {most_orders_price_range}\")\n",
    "\n",
    "# Plot the distribution\n",
    "plt.figure(figsize=(10, 6))\n",
    "plt.bar(price_range_counts.index.astype(str), price_range_counts)\n",
    "plt.xlabel('Price Range')\n",
    "plt.ylabel('Number of Orders')\n",
    "plt.title('Distribution of Original Unit Price')\n",
    "plt.show()"
   ]
  },
  {
   "cell_type": "markdown",
   "id": "41361250",
   "metadata": {},
   "source": [
    "28. Examine the distribution of final_unit_price, using bins range from -20 to 350, width 10. Comparing to original unit prices, how are the final prices different?"
   ]
  },
  {
   "cell_type": "code",
   "execution_count": 133,
   "id": "cbc89158",
   "metadata": {},
   "outputs": [
    {
     "data": {
      "text/html": [
       "<div>\n",
       "<style scoped>\n",
       "    .dataframe tbody tr th:only-of-type {\n",
       "        vertical-align: middle;\n",
       "    }\n",
       "\n",
       "    .dataframe tbody tr th {\n",
       "        vertical-align: top;\n",
       "    }\n",
       "\n",
       "    .dataframe thead th {\n",
       "        text-align: right;\n",
       "    }\n",
       "</style>\n",
       "<table border=\"1\" class=\"dataframe\">\n",
       "  <thead>\n",
       "    <tr style=\"text-align: right;\">\n",
       "      <th></th>\n",
       "      <th>order_ID</th>\n",
       "      <th>user_ID</th>\n",
       "      <th>sku_ID</th>\n",
       "      <th>order_date</th>\n",
       "      <th>order_time</th>\n",
       "      <th>quantity</th>\n",
       "      <th>type_x</th>\n",
       "      <th>promise</th>\n",
       "      <th>original_unit_price</th>\n",
       "      <th>final_unit_price</th>\n",
       "      <th>...</th>\n",
       "      <th>package_ID</th>\n",
       "      <th>ship_out_time</th>\n",
       "      <th>arr_station_time</th>\n",
       "      <th>arr_time</th>\n",
       "      <th>order_day</th>\n",
       "      <th>order_hour</th>\n",
       "      <th>delivery_time</th>\n",
       "      <th>delivery_time_hours</th>\n",
       "      <th>price_range</th>\n",
       "      <th>sales</th>\n",
       "    </tr>\n",
       "  </thead>\n",
       "  <tbody>\n",
       "    <tr>\n",
       "      <th>0</th>\n",
       "      <td>7444318d01</td>\n",
       "      <td>33a9e56257</td>\n",
       "      <td>067b673f2b</td>\n",
       "      <td>2018-03-01</td>\n",
       "      <td>11:10:40</td>\n",
       "      <td>1</td>\n",
       "      <td>1</td>\n",
       "      <td>2</td>\n",
       "      <td>99.9</td>\n",
       "      <td>53.9</td>\n",
       "      <td>...</td>\n",
       "      <td>7444318d01</td>\n",
       "      <td>13:00:00</td>\n",
       "      <td>08:00:00</td>\n",
       "      <td>14:00:00</td>\n",
       "      <td>1</td>\n",
       "      <td>11</td>\n",
       "      <td>0 days 00:00:00.000000002</td>\n",
       "      <td>0.000000e+00</td>\n",
       "      <td>(90, 100]</td>\n",
       "      <td>53.9</td>\n",
       "    </tr>\n",
       "    <tr>\n",
       "      <th>1</th>\n",
       "      <td>f973b01694</td>\n",
       "      <td>4ea3cf408f</td>\n",
       "      <td>623d0a582a</td>\n",
       "      <td>2018-03-01</td>\n",
       "      <td>09:13:26</td>\n",
       "      <td>1</td>\n",
       "      <td>1</td>\n",
       "      <td>2</td>\n",
       "      <td>78.0</td>\n",
       "      <td>58.5</td>\n",
       "      <td>...</td>\n",
       "      <td>f973b01694</td>\n",
       "      <td>14:00:00</td>\n",
       "      <td>09:00:00</td>\n",
       "      <td>13:00:00</td>\n",
       "      <td>1</td>\n",
       "      <td>9</td>\n",
       "      <td>0 days 00:00:00.000000003</td>\n",
       "      <td>0.000000e+00</td>\n",
       "      <td>(70, 80]</td>\n",
       "      <td>58.5</td>\n",
       "    </tr>\n",
       "    <tr>\n",
       "      <th>2</th>\n",
       "      <td>8c1cec8d4b</td>\n",
       "      <td>b87cb736cb</td>\n",
       "      <td>fc5289b139</td>\n",
       "      <td>2018-03-01</td>\n",
       "      <td>21:29:50</td>\n",
       "      <td>1</td>\n",
       "      <td>1</td>\n",
       "      <td>2</td>\n",
       "      <td>61.0</td>\n",
       "      <td>35.0</td>\n",
       "      <td>...</td>\n",
       "      <td>8c1cec8d4b</td>\n",
       "      <td>09:00:00</td>\n",
       "      <td>08:00:00</td>\n",
       "      <td>11:00:00</td>\n",
       "      <td>1</td>\n",
       "      <td>21</td>\n",
       "      <td>-1 days +23:59:59.999999990</td>\n",
       "      <td>-2.777778e-10</td>\n",
       "      <td>(60, 70]</td>\n",
       "      <td>35.0</td>\n",
       "    </tr>\n",
       "    <tr>\n",
       "      <th>3</th>\n",
       "      <td>d43a33c38a</td>\n",
       "      <td>4829223b6f</td>\n",
       "      <td>623d0a582a</td>\n",
       "      <td>2018-03-01</td>\n",
       "      <td>19:13:37</td>\n",
       "      <td>1</td>\n",
       "      <td>1</td>\n",
       "      <td>1</td>\n",
       "      <td>78.0</td>\n",
       "      <td>53.0</td>\n",
       "      <td>...</td>\n",
       "      <td>d43a33c38a</td>\n",
       "      <td>20:00:00</td>\n",
       "      <td>07:00:00</td>\n",
       "      <td>11:00:00</td>\n",
       "      <td>1</td>\n",
       "      <td>19</td>\n",
       "      <td>-1 days +23:59:59.999999992</td>\n",
       "      <td>-2.777778e-10</td>\n",
       "      <td>(70, 80]</td>\n",
       "      <td>53.0</td>\n",
       "    </tr>\n",
       "    <tr>\n",
       "      <th>4</th>\n",
       "      <td>e0f5386d87</td>\n",
       "      <td>0b07cae293</td>\n",
       "      <td>589c2b865b</td>\n",
       "      <td>2018-03-01</td>\n",
       "      <td>21:09:15</td>\n",
       "      <td>1</td>\n",
       "      <td>1</td>\n",
       "      <td>1</td>\n",
       "      <td>79.9</td>\n",
       "      <td>38.9</td>\n",
       "      <td>...</td>\n",
       "      <td>e0f5386d87</td>\n",
       "      <td>22:00:00</td>\n",
       "      <td>09:00:00</td>\n",
       "      <td>12:00:00</td>\n",
       "      <td>1</td>\n",
       "      <td>21</td>\n",
       "      <td>-1 days +23:59:59.999999991</td>\n",
       "      <td>-2.777778e-10</td>\n",
       "      <td>(70, 80]</td>\n",
       "      <td>38.9</td>\n",
       "    </tr>\n",
       "  </tbody>\n",
       "</table>\n",
       "<p>5 rows × 27 columns</p>\n",
       "</div>"
      ],
      "text/plain": [
       "     order_ID     user_ID      sku_ID order_date order_time  quantity  type_x  \\\n",
       "0  7444318d01  33a9e56257  067b673f2b 2018-03-01   11:10:40         1       1   \n",
       "1  f973b01694  4ea3cf408f  623d0a582a 2018-03-01   09:13:26         1       1   \n",
       "2  8c1cec8d4b  b87cb736cb  fc5289b139 2018-03-01   21:29:50         1       1   \n",
       "3  d43a33c38a  4829223b6f  623d0a582a 2018-03-01   19:13:37         1       1   \n",
       "4  e0f5386d87  0b07cae293  589c2b865b 2018-03-01   21:09:15         1       1   \n",
       "\n",
       "  promise  original_unit_price  final_unit_price  ...  package_ID  \\\n",
       "0       2                 99.9              53.9  ...  7444318d01   \n",
       "1       2                 78.0              58.5  ...  f973b01694   \n",
       "2       2                 61.0              35.0  ...  8c1cec8d4b   \n",
       "3       1                 78.0              53.0  ...  d43a33c38a   \n",
       "4       1                 79.9              38.9  ...  e0f5386d87   \n",
       "\n",
       "   ship_out_time  arr_station_time  arr_time  order_day  order_hour  \\\n",
       "0       13:00:00          08:00:00  14:00:00          1          11   \n",
       "1       14:00:00          09:00:00  13:00:00          1           9   \n",
       "2       09:00:00          08:00:00  11:00:00          1          21   \n",
       "3       20:00:00          07:00:00  11:00:00          1          19   \n",
       "4       22:00:00          09:00:00  12:00:00          1          21   \n",
       "\n",
       "                delivery_time delivery_time_hours price_range sales  \n",
       "0   0 days 00:00:00.000000002        0.000000e+00   (90, 100]  53.9  \n",
       "1   0 days 00:00:00.000000003        0.000000e+00    (70, 80]  58.5  \n",
       "2 -1 days +23:59:59.999999990       -2.777778e-10    (60, 70]  35.0  \n",
       "3 -1 days +23:59:59.999999992       -2.777778e-10    (70, 80]  53.0  \n",
       "4 -1 days +23:59:59.999999991       -2.777778e-10    (70, 80]  38.9  \n",
       "\n",
       "[5 rows x 27 columns]"
      ]
     },
     "execution_count": 133,
     "metadata": {},
     "output_type": "execute_result"
    }
   ],
   "source": [
    "filtered_dataset.head()"
   ]
  },
  {
   "cell_type": "code",
   "execution_count": 129,
   "id": "5946141f",
   "metadata": {},
   "outputs": [
    {
     "data": {
      "text/plain": [
       "<Figure size 1200x600 with 0 Axes>"
      ]
     },
     "execution_count": 129,
     "metadata": {},
     "output_type": "execute_result"
    },
    {
     "data": {
      "text/plain": [
       "(array([0.0000e+00, 0.0000e+00, 1.2000e+01, 2.8460e+03, 1.0850e+03,\n",
       "        4.1650e+03, 4.4820e+03, 2.9533e+04, 2.5908e+04, 4.9789e+04,\n",
       "        1.7351e+04, 1.2361e+04, 6.8570e+03, 5.2530e+03, 9.7850e+03,\n",
       "        1.2537e+04, 8.7910e+03, 5.0510e+03, 2.3470e+03, 8.1330e+03,\n",
       "        2.8840e+03, 4.2180e+03, 5.9400e+02, 4.8100e+02, 4.3000e+01,\n",
       "        2.3360e+03, 5.4900e+03, 2.3930e+03, 1.9130e+03, 2.2500e+02,\n",
       "        2.3700e+02, 2.0378e+04, 8.4800e+02, 3.1000e+01, 5.0700e+02,\n",
       "        2.1810e+03, 1.0000e+00]),\n",
       " array([-20., -10.,   0.,  10.,  20.,  30.,  40.,  50.,  60.,  70.,  80.,\n",
       "         90., 100., 110., 120., 130., 140., 150., 160., 170., 180., 190.,\n",
       "        200., 210., 220., 230., 240., 250., 260., 270., 280., 290., 300.,\n",
       "        310., 320., 330., 340., 350.]),\n",
       " <BarContainer object of 37 artists>)"
      ]
     },
     "execution_count": 129,
     "metadata": {},
     "output_type": "execute_result"
    },
    {
     "data": {
      "text/plain": [
       "(array([0.0000e+00, 0.0000e+00, 3.9730e+03, 4.1660e+03, 8.8810e+03,\n",
       "        3.0955e+04, 3.1537e+04, 3.7325e+04, 3.1149e+04, 1.6949e+04,\n",
       "        8.4250e+03, 9.5160e+03, 9.8500e+03, 3.9250e+03, 9.0220e+03,\n",
       "        4.0900e+03, 3.3400e+03, 3.6910e+03, 6.8740e+03, 1.4950e+03,\n",
       "        1.6980e+03, 2.3620e+03, 7.6370e+03, 1.6830e+03, 7.0270e+03,\n",
       "        1.8580e+03, 2.1020e+03, 5.9200e+02, 2.7400e+02, 1.8900e+02,\n",
       "        1.2700e+02, 2.3200e+02, 7.1000e+01, 1.4000e+01, 5.0000e+00,\n",
       "        1.2000e+01, 0.0000e+00]),\n",
       " array([-20., -10.,   0.,  10.,  20.,  30.,  40.,  50.,  60.,  70.,  80.,\n",
       "         90., 100., 110., 120., 130., 140., 150., 160., 170., 180., 190.,\n",
       "        200., 210., 220., 230., 240., 250., 260., 270., 280., 290., 300.,\n",
       "        310., 320., 330., 340., 350.]),\n",
       " <BarContainer object of 37 artists>)"
      ]
     },
     "execution_count": 129,
     "metadata": {},
     "output_type": "execute_result"
    },
    {
     "data": {
      "text/plain": [
       "Text(0.5, 0, 'Price')"
      ]
     },
     "execution_count": 129,
     "metadata": {},
     "output_type": "execute_result"
    },
    {
     "data": {
      "text/plain": [
       "Text(0, 0.5, 'Frequency')"
      ]
     },
     "execution_count": 129,
     "metadata": {},
     "output_type": "execute_result"
    },
    {
     "data": {
      "text/plain": [
       "Text(0.5, 1.0, 'Distribution of Original and Final Unit Prices')"
      ]
     },
     "execution_count": 129,
     "metadata": {},
     "output_type": "execute_result"
    },
    {
     "data": {
      "text/plain": [
       "<matplotlib.legend.Legend at 0x17f45893c90>"
      ]
     },
     "execution_count": 129,
     "metadata": {},
     "output_type": "execute_result"
    },
    {
     "data": {
      "image/png": "[encoded data removed]",
      "text/plain": [
       "<Figure size 1200x600 with 1 Axes>"
      ]
     },
     "metadata": {},
     "output_type": "display_data"
    }
   ],
   "source": [
    "# Set up bins for both original and final unit prices\n",
    "bins = range(-20, 360, 10)\n",
    "\n",
    "# Plot histogram for original unit price\n",
    "plt.figure(figsize=(12, 6))\n",
    "plt.hist(filtered_dataset['original_unit_price'], bins=bins, alpha=0.5, label='Original Unit Price', color='blue')\n",
    "\n",
    "# Plot histogram for final unit price\n",
    "plt.hist(filtered_dataset['final_unit_price'], bins=bins, alpha=0.5, label='Final Unit Price', color='orange')\n",
    "\n",
    "# Add labels and title\n",
    "plt.xlabel('Price')\n",
    "plt.ylabel('Frequency')\n",
    "plt.title('Distribution of Original and Final Unit Prices')\n",
    "plt.legend()\n",
    "plt.show()"
   ]
  },
  {
   "cell_type": "markdown",
   "id": "3146104a",
   "metadata": {},
   "source": [
    "29. Create a new variable 'sales', which is equal to the multiplication of quantity and final unit price. Make a graph for sales by day as in Q25."
   ]
  },
  {
   "cell_type": "code",
   "execution_count": 130,
   "id": "78d29d15",
   "metadata": {},
   "outputs": [
    {
     "name": "stdout",
     "output_type": "stream",
     "text": [
      "     order_ID     user_ID      sku_ID order_date order_time  quantity  type_x  \\\n",
      "0  7444318d01  33a9e56257  067b673f2b 2018-03-01   11:10:40         1       1   \n",
      "1  f973b01694  4ea3cf408f  623d0a582a 2018-03-01   09:13:26         1       1   \n",
      "2  8c1cec8d4b  b87cb736cb  fc5289b139 2018-03-01   21:29:50         1       1   \n",
      "3  d43a33c38a  4829223b6f  623d0a582a 2018-03-01   19:13:37         1       1   \n",
      "4  e0f5386d87  0b07cae293  589c2b865b 2018-03-01   21:09:15         1       1   \n",
      "\n",
      "  promise  original_unit_price  final_unit_price  ...  package_ID  \\\n",
      "0       2                 99.9              53.9  ...  7444318d01   \n",
      "1       2                 78.0              58.5  ...  f973b01694   \n",
      "2       2                 61.0              35.0  ...  8c1cec8d4b   \n",
      "3       1                 78.0              53.0  ...  d43a33c38a   \n",
      "4       1                 79.9              38.9  ...  e0f5386d87   \n",
      "\n",
      "   ship_out_time  arr_station_time  arr_time  order_day  order_hour  \\\n",
      "0       13:00:00          08:00:00  14:00:00          1          11   \n",
      "1       14:00:00          09:00:00  13:00:00          1           9   \n",
      "2       09:00:00          08:00:00  11:00:00          1          21   \n",
      "3       20:00:00          07:00:00  11:00:00          1          19   \n",
      "4       22:00:00          09:00:00  12:00:00          1          21   \n",
      "\n",
      "                delivery_time delivery_time_hours price_range sales  \n",
      "0   0 days 00:00:00.000000002        0.000000e+00   (90, 100]  53.9  \n",
      "1   0 days 00:00:00.000000003        0.000000e+00    (70, 80]  58.5  \n",
      "2 -1 days +23:59:59.999999990       -2.777778e-10    (60, 70]  35.0  \n",
      "3 -1 days +23:59:59.999999992       -2.777778e-10    (70, 80]  53.0  \n",
      "4 -1 days +23:59:59.999999991       -2.777778e-10    (70, 80]  38.9  \n",
      "\n",
      "[5 rows x 27 columns]\n"
     ]
    },
    {
     "name": "stderr",
     "output_type": "stream",
     "text": [
      "C:\\Users\\home\\AppData\\Local\\Temp\\ipykernel_15280\\2864720512.py:2: SettingWithCopyWarning: \n",
      "A value is trying to be set on a copy of a slice from a DataFrame.\n",
      "Try using .loc[row_indexer,col_indexer] = value instead\n",
      "\n",
      "See the caveats in the documentation: https://pandas.pydata.org/pandas-docs/stable/user_guide/indexing.html#returning-a-view-versus-a-copy\n",
      "  filtered_dataset['sales'] = filtered_dataset['quantity'] * filtered_dataset['final_unit_price']\n"
     ]
    },
    {
     "data": {
      "text/plain": [
       "[<matplotlib.lines.Line2D at 0x17f45742bd0>]"
      ]
     },
     "execution_count": 130,
     "metadata": {},
     "output_type": "execute_result"
    },
    {
     "data": {
      "image/png": "[encoded data removed]",
      "text/plain": [
       "<Figure size 640x480 with 1 Axes>"
      ]
     },
     "metadata": {},
     "output_type": "display_data"
    }
   ],
   "source": [
    "# Create a new variable 'sales' by multiplying 'quantity' and 'final_unit_price'\n",
    "filtered_dataset['sales'] = filtered_dataset['quantity'] * filtered_dataset['final_unit_price']\n",
    "\n",
    "# Print the DataFrame to verify the changes\n",
    "print(filtered_dataset.head())\n",
    "\n",
    "# Group by date and sum the sales for each day\n",
    "daily_sales = filtered_dataset.groupby('order_day')['sales'].sum()\n",
    "\n",
    "plt.plot(daily_sales.index, daily_sales.values)"
   ]
  },
  {
   "cell_type": "markdown",
   "id": "f8b594ac",
   "metadata": {},
   "source": [
    "30. Try to answer one descriptive question you asked in your project initial report."
   ]
  },
  {
   "cell_type": "code",
   "execution_count": 131,
   "id": "b6d837ae",
   "metadata": {},
   "outputs": [
    {
     "name": "stdout",
     "output_type": "stream",
     "text": [
      "          user_level           plus      education     city_level  \\\n",
      "count  457298.000000  457298.000000  457298.000000  457298.000000   \n",
      "mean        2.305547       0.177031       1.938830       1.688945   \n",
      "std         1.157647       0.381695       1.752484       1.608057   \n",
      "min        -1.000000       0.000000      -1.000000      -1.000000   \n",
      "25%         1.000000       0.000000       1.000000       1.000000   \n",
      "50%         2.000000       0.000000       3.000000       2.000000   \n",
      "75%         3.000000       0.000000       3.000000       3.000000   \n",
      "max        10.000000       1.000000       4.000000       5.000000   \n",
      "\n",
      "       purchase_power  \n",
      "count   457298.000000  \n",
      "mean         1.585170  \n",
      "std          1.461573  \n",
      "min         -1.000000  \n",
      "25%          2.000000  \n",
      "50%          2.000000  \n",
      "75%          2.000000  \n",
      "max          5.000000  \n"
     ]
    },
    {
     "data": {
      "text/plain": [
       "<BarContainer object of 6 artists>"
      ]
     },
     "execution_count": 131,
     "metadata": {},
     "output_type": "execute_result"
    },
    {
     "data": {
      "text/plain": [
       "Text(0.5, 0, 'City Level')"
      ]
     },
     "execution_count": 131,
     "metadata": {},
     "output_type": "execute_result"
    },
    {
     "data": {
      "text/plain": [
       "Text(0, 0.5, 'Total Purchase power')"
      ]
     },
     "execution_count": 131,
     "metadata": {},
     "output_type": "execute_result"
    },
    {
     "data": {
      "text/plain": [
       "Text(0.5, 1.0, 'Total Purchase power by City Level')"
      ]
     },
     "execution_count": 131,
     "metadata": {},
     "output_type": "execute_result"
    },
    {
     "data": {
      "image/png": "[encoded data removed]",
      "text/plain": [
       "<Figure size 640x480 with 1 Axes>"
      ]
     },
     "metadata": {},
     "output_type": "display_data"
    }
   ],
   "source": [
    "#How were customer purchases distributed throughout cities at different levels (city_level)? \n",
    "#Are there more users from higher city levels, or are there people from all city levels \n",
    "#represented fairly? (users) \n",
    "user = pd.read_csv(\"JD_user_data.csv\")\n",
    "print(user.describe())\n",
    "\n",
    "# Group data by city level and calculate the total purchases in each level\n",
    "city_level_purchases = user.groupby('city_level')['purchase_power'].sum().reset_index()\n",
    "\n",
    "# Create a bar chart to visualize the distribution\n",
    "plt.bar(city_level_purchases['city_level'], city_level_purchases['purchase_power'])\n",
    "plt.xlabel('City Level')\n",
    "plt.ylabel('Total Purchase power')\n",
    "plt.title('Total Purchase power by City Level')\n",
    "plt.show()"
   ]
  },
  {
   "cell_type": "markdown",
   "id": "f0c24792",
   "metadata": {},
   "source": [
    "### Assignment 11 starts from here: Q31-Q40.\n",
    "We only covered a small part of data exploration in Assignment 10. If you are interested, you can make many more graphs to understand the data. <br>\n",
    "Next we intend to build models to predict delivery times."
   ]
  },
  {
   "cell_type": "markdown",
   "id": "aae847a1",
   "metadata": {},
   "source": [
    "We want to use two sets of features to make predictions.<br>\n",
    "1. order effect: This class of predictors captures thevcharacteristics of an order that may impact deliveryvtime, such as the number of items (SKUs), order size (quantity), order type (1P or 3P), discount rate and the number of gift items.<br>\n",
    "2. User effect: The process may prioritize certain customers over others, for example, customers with a PLUSmembership or higher past purchase values.<br>\n",
    "Note: Actually, it will be better if we can include real-time workloads of distribution centers. It can be done with this dataset, but might be a little too much for us. So, we will leave that part out."
   ]
  },
  {
   "cell_type": "markdown",
   "id": "4d6d4f39",
   "metadata": {},
   "source": [
    "We need to further process the data to prepare the features.<br>\n",
    "<b>Note: Here I have done this part. You need to change the name of DataFrame \"order_delivery_inner' to your dataframe name that results from all the previous steps. Make sure you run the cells before you proceed.</b>"
   ]
  },
  {
   "cell_type": "markdown",
   "id": "5172354f",
   "metadata": {},
   "source": [
    "31. The dataset we have so far is based on order-items. Each row is an item in an order. Now we need to aggregate by order to match order information with delivery information. Afterwards, each row is about one delivery / one order because we have already removed orders that have multiple deliveries."
   ]
  },
  {
   "cell_type": "markdown",
   "id": "59606105",
   "metadata": {},
   "source": [
    "First, let's calculate order values by multiply price and quantity."
   ]
  },
  {
   "cell_type": "code",
   "execution_count": 136,
   "id": "1319d2d9",
   "metadata": {},
   "outputs": [],
   "source": [
    "# Original value of items\n",
    "merged_data_filtered_2['originValue'] = merged_data_filtered_2['original_unit_price'] \\\n",
    "                                        * merged_data_filtered_2['quantity']\n",
    "\n",
    "# Final value of items                                    \n",
    "merged_data_filtered_2['finalValue'] = merged_data_filtered_2['final_unit_price'] \\\n",
    "                                    * merged_data_filtered_2['quantity']                                   "
   ]
  },
  {
   "cell_type": "markdown",
   "id": "f31f2672",
   "metadata": {},
   "source": [
    "Next we aggregate by each order. <br>\n",
    "Please pay attention to the variable names. They should be consistent with yours. Make changes when necessary. <br>\n",
    "\n",
    "Variables that are the same across one order:<br>\n",
    "user_ID<br>\n",
    "order type - type_x<br>\n",
    "delivery time - delivery_time<br>\n",
    "order day - order_day<br>\n",
    "order hour - order_hour<br>\n",
    "<br>\n",
    "<br>\n",
    "Variables to be aggregated across one order:<br>\n",
    "sku_ID - to count to calculate the number of different products<br>\n",
    "quantity - to sum to calculate the order size<br>\n",
    "originValue - to sum to calculate sales value with the original price<br>\n",
    "finalValue - to sum to calculate final sales value<br>\n",
    "discount rate<br>\n",
    "gift_item - to sum to calculate the number of gift items<br>\n",
    "\n",
    "Therefore, we need to do the following:<br>\n",
    "\n",
    "1. For variables that are the same across one order, we can use the 'first' method to keep the value in the groupby result.<br>\n",
    "2. For variables to be aggregated, we specify aggregation for each of them.<br>\n",
    "3. We can use a dictionary to put all actions together."
   ]
  },
  {
   "cell_type": "code",
   "execution_count": 137,
   "id": "c8a0f382",
   "metadata": {},
   "outputs": [
    {
     "data": {
      "text/html": [
       "<div>\n",
       "<style scoped>\n",
       "    .dataframe tbody tr th:only-of-type {\n",
       "        vertical-align: middle;\n",
       "    }\n",
       "\n",
       "    .dataframe tbody tr th {\n",
       "        vertical-align: top;\n",
       "    }\n",
       "\n",
       "    .dataframe thead th {\n",
       "        text-align: right;\n",
       "    }\n",
       "</style>\n",
       "<table border=\"1\" class=\"dataframe\">\n",
       "  <thead>\n",
       "    <tr style=\"text-align: right;\">\n",
       "      <th></th>\n",
       "      <th>order_ID</th>\n",
       "      <th>user_ID</th>\n",
       "      <th>type_x</th>\n",
       "      <th>delivery_time</th>\n",
       "      <th>order_day</th>\n",
       "      <th>order_hour</th>\n",
       "      <th>sku_ID</th>\n",
       "      <th>quantity</th>\n",
       "      <th>originValue</th>\n",
       "      <th>finalValue</th>\n",
       "      <th>gift_item</th>\n",
       "    </tr>\n",
       "  </thead>\n",
       "  <tbody>\n",
       "    <tr>\n",
       "      <th>0</th>\n",
       "      <td>0000095025</td>\n",
       "      <td>57648ed1fc</td>\n",
       "      <td>1</td>\n",
       "      <td>-1 days +23:59:59.999999999</td>\n",
       "      <td>19</td>\n",
       "      <td>11</td>\n",
       "      <td>1</td>\n",
       "      <td>1</td>\n",
       "      <td>230.0</td>\n",
       "      <td>176.2</td>\n",
       "      <td>0</td>\n",
       "    </tr>\n",
       "    <tr>\n",
       "      <th>1</th>\n",
       "      <td>00000e13eb</td>\n",
       "      <td>c113527e40</td>\n",
       "      <td>0</td>\n",
       "      <td>0 days 00:00:00.000000005</td>\n",
       "      <td>9</td>\n",
       "      <td>12</td>\n",
       "      <td>1</td>\n",
       "      <td>1</td>\n",
       "      <td>56.0</td>\n",
       "      <td>56.0</td>\n",
       "      <td>0</td>\n",
       "    </tr>\n",
       "    <tr>\n",
       "      <th>2</th>\n",
       "      <td>0000132b39</td>\n",
       "      <td>c4f5626c0d</td>\n",
       "      <td>1</td>\n",
       "      <td>-1 days +23:59:59.999999999</td>\n",
       "      <td>13</td>\n",
       "      <td>16</td>\n",
       "      <td>1</td>\n",
       "      <td>1</td>\n",
       "      <td>89.0</td>\n",
       "      <td>85.0</td>\n",
       "      <td>0</td>\n",
       "    </tr>\n",
       "    <tr>\n",
       "      <th>3</th>\n",
       "      <td>0000bde331</td>\n",
       "      <td>20d84fc11a</td>\n",
       "      <td>1</td>\n",
       "      <td>-1 days +23:59:59.999999998</td>\n",
       "      <td>17</td>\n",
       "      <td>14</td>\n",
       "      <td>1</td>\n",
       "      <td>1</td>\n",
       "      <td>59.9</td>\n",
       "      <td>39.9</td>\n",
       "      <td>0</td>\n",
       "    </tr>\n",
       "    <tr>\n",
       "      <th>4</th>\n",
       "      <td>00016f6069</td>\n",
       "      <td>77ea7842f4</td>\n",
       "      <td>1</td>\n",
       "      <td>-1 days +23:59:59.999999996</td>\n",
       "      <td>10</td>\n",
       "      <td>19</td>\n",
       "      <td>1</td>\n",
       "      <td>1</td>\n",
       "      <td>69.0</td>\n",
       "      <td>48.0</td>\n",
       "      <td>0</td>\n",
       "    </tr>\n",
       "  </tbody>\n",
       "</table>\n",
       "</div>"
      ],
      "text/plain": [
       "     order_ID     user_ID  type_x               delivery_time  order_day  \\\n",
       "0  0000095025  57648ed1fc       1 -1 days +23:59:59.999999999         19   \n",
       "1  00000e13eb  c113527e40       0   0 days 00:00:00.000000005          9   \n",
       "2  0000132b39  c4f5626c0d       1 -1 days +23:59:59.999999999         13   \n",
       "3  0000bde331  20d84fc11a       1 -1 days +23:59:59.999999998         17   \n",
       "4  00016f6069  77ea7842f4       1 -1 days +23:59:59.999999996         10   \n",
       "\n",
       "   order_hour  sku_ID  quantity  originValue  finalValue  gift_item  \n",
       "0          11       1         1        230.0       176.2          0  \n",
       "1          12       1         1         56.0        56.0          0  \n",
       "2          16       1         1         89.0        85.0          0  \n",
       "3          14       1         1         59.9        39.9          0  \n",
       "4          19       1         1         69.0        48.0          0  "
      ]
     },
     "execution_count": 137,
     "metadata": {},
     "output_type": "execute_result"
    }
   ],
   "source": [
    "agg_dict = {\n",
    "    'user_ID': 'first',\n",
    "    'type_x': 'first',\n",
    "    'delivery_time': 'first',\n",
    "    'order_day': 'first',\n",
    "    'order_hour':'first',\n",
    "    'sku_ID': 'count',\n",
    "    'quantity': 'sum',\n",
    "    'originValue': 'sum',\n",
    "    'finalValue': 'sum',\n",
    "    'gift_item': 'sum'\n",
    "}\n",
    "\n",
    "order_agg = merged_data_filtered_2.groupby('order_ID').agg(agg_dict).reset_index()\n",
    "order_agg.head()"
   ]
  },
  {
   "cell_type": "markdown",
   "id": "fdc3e486",
   "metadata": {},
   "source": [
    "32. Merge user table with this aggregated order table."
   ]
  },
  {
   "cell_type": "code",
   "execution_count": 171,
   "id": "9b6c49fb",
   "metadata": {},
   "outputs": [
    {
     "data": {
      "text/html": [
       "<div>\n",
       "<style scoped>\n",
       "    .dataframe tbody tr th:only-of-type {\n",
       "        vertical-align: middle;\n",
       "    }\n",
       "\n",
       "    .dataframe tbody tr th {\n",
       "        vertical-align: top;\n",
       "    }\n",
       "\n",
       "    .dataframe thead th {\n",
       "        text-align: right;\n",
       "    }\n",
       "</style>\n",
       "<table border=\"1\" class=\"dataframe\">\n",
       "  <thead>\n",
       "    <tr style=\"text-align: right;\">\n",
       "      <th></th>\n",
       "      <th>user_ID</th>\n",
       "      <th>user_level</th>\n",
       "      <th>first_order_month</th>\n",
       "      <th>plus</th>\n",
       "      <th>gender</th>\n",
       "      <th>age</th>\n",
       "      <th>marital_status</th>\n",
       "      <th>education</th>\n",
       "      <th>city_level</th>\n",
       "      <th>purchase_power</th>\n",
       "    </tr>\n",
       "  </thead>\n",
       "  <tbody>\n",
       "    <tr>\n",
       "      <th>0</th>\n",
       "      <td>000089d6a6</td>\n",
       "      <td>1</td>\n",
       "      <td>2017-08</td>\n",
       "      <td>0</td>\n",
       "      <td>F</td>\n",
       "      <td>26-35</td>\n",
       "      <td>S</td>\n",
       "      <td>3</td>\n",
       "      <td>4</td>\n",
       "      <td>3</td>\n",
       "    </tr>\n",
       "    <tr>\n",
       "      <th>1</th>\n",
       "      <td>0000babd1f</td>\n",
       "      <td>1</td>\n",
       "      <td>2018-03</td>\n",
       "      <td>0</td>\n",
       "      <td>U</td>\n",
       "      <td>U</td>\n",
       "      <td>U</td>\n",
       "      <td>-1</td>\n",
       "      <td>-1</td>\n",
       "      <td>-1</td>\n",
       "    </tr>\n",
       "    <tr>\n",
       "      <th>2</th>\n",
       "      <td>0000bc018b</td>\n",
       "      <td>3</td>\n",
       "      <td>2016-06</td>\n",
       "      <td>0</td>\n",
       "      <td>F</td>\n",
       "      <td>&gt;=56</td>\n",
       "      <td>M</td>\n",
       "      <td>3</td>\n",
       "      <td>2</td>\n",
       "      <td>3</td>\n",
       "    </tr>\n",
       "    <tr>\n",
       "      <th>3</th>\n",
       "      <td>0000d0e5ab</td>\n",
       "      <td>3</td>\n",
       "      <td>2014-06</td>\n",
       "      <td>0</td>\n",
       "      <td>M</td>\n",
       "      <td>26-35</td>\n",
       "      <td>M</td>\n",
       "      <td>3</td>\n",
       "      <td>2</td>\n",
       "      <td>2</td>\n",
       "    </tr>\n",
       "    <tr>\n",
       "      <th>4</th>\n",
       "      <td>0000dce472</td>\n",
       "      <td>3</td>\n",
       "      <td>2012-08</td>\n",
       "      <td>1</td>\n",
       "      <td>U</td>\n",
       "      <td>U</td>\n",
       "      <td>U</td>\n",
       "      <td>-1</td>\n",
       "      <td>-1</td>\n",
       "      <td>-1</td>\n",
       "    </tr>\n",
       "  </tbody>\n",
       "</table>\n",
       "</div>"
      ],
      "text/plain": [
       "      user_ID  user_level first_order_month  plus gender    age  \\\n",
       "0  000089d6a6           1           2017-08     0      F  26-35   \n",
       "1  0000babd1f           1           2018-03     0      U      U   \n",
       "2  0000bc018b           3           2016-06     0      F   >=56   \n",
       "3  0000d0e5ab           3           2014-06     0      M  26-35   \n",
       "4  0000dce472           3           2012-08     1      U      U   \n",
       "\n",
       "  marital_status  education  city_level  purchase_power  \n",
       "0              S          3           4               3  \n",
       "1              U         -1          -1              -1  \n",
       "2              M          3           2               3  \n",
       "3              M          3           2               2  \n",
       "4              U         -1          -1              -1  "
      ]
     },
     "execution_count": 171,
     "metadata": {},
     "output_type": "execute_result"
    },
    {
     "name": "stdout",
     "output_type": "stream",
     "text": [
      "<class 'pandas.core.frame.DataFrame'>\n",
      "RangeIndex: 457298 entries, 0 to 457297\n",
      "Data columns (total 10 columns):\n",
      " #   Column             Non-Null Count   Dtype \n",
      "---  ------             --------------   ----- \n",
      " 0   user_ID            457298 non-null  object\n",
      " 1   user_level         457298 non-null  int64 \n",
      " 2   first_order_month  457298 non-null  object\n",
      " 3   plus               457298 non-null  int64 \n",
      " 4   gender             457298 non-null  object\n",
      " 5   age                457298 non-null  object\n",
      " 6   marital_status     457298 non-null  object\n",
      " 7   education          457298 non-null  int64 \n",
      " 8   city_level         457298 non-null  int64 \n",
      " 9   purchase_power     457298 non-null  int64 \n",
      "dtypes: int64(5), object(5)\n",
      "memory usage: 34.9+ MB\n"
     ]
    },
    {
     "data": {
      "text/html": [
       "<div>\n",
       "<style scoped>\n",
       "    .dataframe tbody tr th:only-of-type {\n",
       "        vertical-align: middle;\n",
       "    }\n",
       "\n",
       "    .dataframe tbody tr th {\n",
       "        vertical-align: top;\n",
       "    }\n",
       "\n",
       "    .dataframe thead th {\n",
       "        text-align: right;\n",
       "    }\n",
       "</style>\n",
       "<table border=\"1\" class=\"dataframe\">\n",
       "  <thead>\n",
       "    <tr style=\"text-align: right;\">\n",
       "      <th></th>\n",
       "      <th>order_ID</th>\n",
       "      <th>user_ID</th>\n",
       "      <th>type_x</th>\n",
       "      <th>delivery_time</th>\n",
       "      <th>order_day</th>\n",
       "      <th>order_hour</th>\n",
       "      <th>sku_ID</th>\n",
       "      <th>quantity</th>\n",
       "      <th>originValue</th>\n",
       "      <th>finalValue</th>\n",
       "      <th>gift_item</th>\n",
       "      <th>user_level</th>\n",
       "      <th>first_order_month</th>\n",
       "      <th>plus</th>\n",
       "      <th>gender</th>\n",
       "      <th>age</th>\n",
       "      <th>marital_status</th>\n",
       "      <th>education</th>\n",
       "      <th>city_level</th>\n",
       "      <th>purchase_power</th>\n",
       "    </tr>\n",
       "  </thead>\n",
       "  <tbody>\n",
       "    <tr>\n",
       "      <th>0</th>\n",
       "      <td>0000095025</td>\n",
       "      <td>57648ed1fc</td>\n",
       "      <td>1</td>\n",
       "      <td>-1 days +23:59:59.999999999</td>\n",
       "      <td>19</td>\n",
       "      <td>11</td>\n",
       "      <td>1</td>\n",
       "      <td>1</td>\n",
       "      <td>230.0</td>\n",
       "      <td>176.2</td>\n",
       "      <td>0</td>\n",
       "      <td>-1</td>\n",
       "      <td>2017-10</td>\n",
       "      <td>0</td>\n",
       "      <td>U</td>\n",
       "      <td>U</td>\n",
       "      <td>U</td>\n",
       "      <td>-1</td>\n",
       "      <td>-1</td>\n",
       "      <td>-1</td>\n",
       "    </tr>\n",
       "    <tr>\n",
       "      <th>1</th>\n",
       "      <td>00000e13eb</td>\n",
       "      <td>c113527e40</td>\n",
       "      <td>0</td>\n",
       "      <td>0 days 00:00:00.000000005</td>\n",
       "      <td>9</td>\n",
       "      <td>12</td>\n",
       "      <td>1</td>\n",
       "      <td>1</td>\n",
       "      <td>56.0</td>\n",
       "      <td>56.0</td>\n",
       "      <td>0</td>\n",
       "      <td>1</td>\n",
       "      <td>2017-08</td>\n",
       "      <td>0</td>\n",
       "      <td>U</td>\n",
       "      <td>U</td>\n",
       "      <td>U</td>\n",
       "      <td>-1</td>\n",
       "      <td>-1</td>\n",
       "      <td>-1</td>\n",
       "    </tr>\n",
       "    <tr>\n",
       "      <th>2</th>\n",
       "      <td>0000132b39</td>\n",
       "      <td>c4f5626c0d</td>\n",
       "      <td>1</td>\n",
       "      <td>-1 days +23:59:59.999999999</td>\n",
       "      <td>13</td>\n",
       "      <td>16</td>\n",
       "      <td>1</td>\n",
       "      <td>1</td>\n",
       "      <td>89.0</td>\n",
       "      <td>85.0</td>\n",
       "      <td>0</td>\n",
       "      <td>2</td>\n",
       "      <td>2016-06</td>\n",
       "      <td>0</td>\n",
       "      <td>F</td>\n",
       "      <td>16-25</td>\n",
       "      <td>S</td>\n",
       "      <td>3</td>\n",
       "      <td>2</td>\n",
       "      <td>1</td>\n",
       "    </tr>\n",
       "    <tr>\n",
       "      <th>3</th>\n",
       "      <td>0000bde331</td>\n",
       "      <td>20d84fc11a</td>\n",
       "      <td>1</td>\n",
       "      <td>-1 days +23:59:59.999999998</td>\n",
       "      <td>17</td>\n",
       "      <td>14</td>\n",
       "      <td>1</td>\n",
       "      <td>1</td>\n",
       "      <td>59.9</td>\n",
       "      <td>39.9</td>\n",
       "      <td>0</td>\n",
       "      <td>2</td>\n",
       "      <td>2016-03</td>\n",
       "      <td>0</td>\n",
       "      <td>F</td>\n",
       "      <td>26-35</td>\n",
       "      <td>M</td>\n",
       "      <td>3</td>\n",
       "      <td>-1</td>\n",
       "      <td>2</td>\n",
       "    </tr>\n",
       "    <tr>\n",
       "      <th>4</th>\n",
       "      <td>00016f6069</td>\n",
       "      <td>77ea7842f4</td>\n",
       "      <td>1</td>\n",
       "      <td>-1 days +23:59:59.999999996</td>\n",
       "      <td>10</td>\n",
       "      <td>19</td>\n",
       "      <td>1</td>\n",
       "      <td>1</td>\n",
       "      <td>69.0</td>\n",
       "      <td>48.0</td>\n",
       "      <td>0</td>\n",
       "      <td>1</td>\n",
       "      <td>2014-08</td>\n",
       "      <td>0</td>\n",
       "      <td>F</td>\n",
       "      <td>16-25</td>\n",
       "      <td>S</td>\n",
       "      <td>-1</td>\n",
       "      <td>2</td>\n",
       "      <td>3</td>\n",
       "    </tr>\n",
       "  </tbody>\n",
       "</table>\n",
       "</div>"
      ],
      "text/plain": [
       "     order_ID     user_ID  type_x               delivery_time  order_day  \\\n",
       "0  0000095025  57648ed1fc       1 -1 days +23:59:59.999999999         19   \n",
       "1  00000e13eb  c113527e40       0   0 days 00:00:00.000000005          9   \n",
       "2  0000132b39  c4f5626c0d       1 -1 days +23:59:59.999999999         13   \n",
       "3  0000bde331  20d84fc11a       1 -1 days +23:59:59.999999998         17   \n",
       "4  00016f6069  77ea7842f4       1 -1 days +23:59:59.999999996         10   \n",
       "\n",
       "   order_hour  sku_ID  quantity  originValue  finalValue  gift_item  \\\n",
       "0          11       1         1        230.0       176.2          0   \n",
       "1          12       1         1         56.0        56.0          0   \n",
       "2          16       1         1         89.0        85.0          0   \n",
       "3          14       1         1         59.9        39.9          0   \n",
       "4          19       1         1         69.0        48.0          0   \n",
       "\n",
       "   user_level first_order_month  plus gender    age marital_status  education  \\\n",
       "0          -1           2017-10     0      U      U              U         -1   \n",
       "1           1           2017-08     0      U      U              U         -1   \n",
       "2           2           2016-06     0      F  16-25              S          3   \n",
       "3           2           2016-03     0      F  26-35              M          3   \n",
       "4           1           2014-08     0      F  16-25              S         -1   \n",
       "\n",
       "   city_level  purchase_power  \n",
       "0          -1              -1  \n",
       "1          -1              -1  \n",
       "2           2               1  \n",
       "3          -1               2  \n",
       "4           2               3  "
      ]
     },
     "execution_count": 171,
     "metadata": {},
     "output_type": "execute_result"
    },
    {
     "name": "stdout",
     "output_type": "stream",
     "text": [
      "<class 'pandas.core.frame.DataFrame'>\n",
      "Int64Index: 252886 entries, 0 to 252885\n",
      "Data columns (total 20 columns):\n",
      " #   Column             Non-Null Count   Dtype          \n",
      "---  ------             --------------   -----          \n",
      " 0   order_ID           252886 non-null  object         \n",
      " 1   user_ID            252886 non-null  object         \n",
      " 2   type_x             252886 non-null  int64          \n",
      " 3   delivery_time      252886 non-null  timedelta64[ns]\n",
      " 4   order_day          252886 non-null  int64          \n",
      " 5   order_hour         252886 non-null  int64          \n",
      " 6   sku_ID             252886 non-null  int64          \n",
      " 7   quantity           252886 non-null  int64          \n",
      " 8   originValue        252886 non-null  float64        \n",
      " 9   finalValue         252886 non-null  float64        \n",
      " 10  gift_item          252886 non-null  int64          \n",
      " 11  user_level         252886 non-null  int64          \n",
      " 12  first_order_month  252886 non-null  object         \n",
      " 13  plus               252886 non-null  int64          \n",
      " 14  gender             252886 non-null  object         \n",
      " 15  age                252886 non-null  object         \n",
      " 16  marital_status     252886 non-null  object         \n",
      " 17  education          252886 non-null  int64          \n",
      " 18  city_level         252886 non-null  int64          \n",
      " 19  purchase_power     252886 non-null  int64          \n",
      "dtypes: float64(2), int64(11), object(6), timedelta64[ns](1)\n",
      "memory usage: 40.5+ MB\n"
     ]
    }
   ],
   "source": [
    "user = pd.read_csv(\"JD_user_data.csv\")\n",
    "user.head()\n",
    "user.info()\n",
    "order_user = pd.merge(order_agg, user, on = 'user_ID', how = 'inner') \n",
    "order_user.head() \n",
    "order_user.info()"
   ]
  },
  {
   "cell_type": "markdown",
   "id": "dc1d24b9",
   "metadata": {},
   "source": [
    "33. We need to code a few more variables."
   ]
  },
  {
   "cell_type": "code",
   "execution_count": 156,
   "id": "84ea5602",
   "metadata": {},
   "outputs": [],
   "source": [
    "# First we remove the orders with originValue is 0\n",
    "order_user = order_user[order_user['originValue'] != 0]"
   ]
  },
  {
   "cell_type": "code",
   "execution_count": 142,
   "id": "8887322d",
   "metadata": {},
   "outputs": [],
   "source": [
    "# Discount rate\n",
    "order_user['dis_rate'] = (order_user['originValue'] - order_user['finalValue'])/order_user['originValue']\n",
    "# order_hour coded to be busy vs. not busy\n",
    "order_user['busy_hour'] = order_user['order_hour'].apply(lambda h: 1 if 8<=h<=22 else 0)"
   ]
  },
  {
   "cell_type": "markdown",
   "id": "fd453eb5",
   "metadata": {},
   "source": [
    "34. Prepare data for analysis. The target variable is 'delivery_time'.<br>\n",
    "Features: 'type_x', 'sku_ID', 'quantity', 'finalValue', 'gift_item', 'plus', 'dis_rate', 'busy_hour'"
   ]
  },
  {
   "cell_type": "code",
   "execution_count": 175,
   "id": "f514ef45",
   "metadata": {},
   "outputs": [],
   "source": [
    "import pandas as pd\n",
    "from sklearn.tree import DecisionTreeRegressor\n",
    "from sklearn.metrics import mean_squared_error\n",
    "from sklearn.model_selection import train_test_split\n",
    "from math import sqrt\n",
    "\n",
    "reference_time = order_user['delivery_time'].min()\n",
    "order_user['delivery_time_numeric'] = (order_user['delivery_time'] - reference_time).dt.total_seconds()\n",
    "\n",
    "y = order_user['delivery_time_numeric']\n",
    "\n",
    "features = ['type_x', 'sku_ID', 'quantity', 'finalValue', 'gift_item', 'plus', 'dis_rate', 'busy_hour']\n",
    "X = order_user[features]"
   ]
  },
  {
   "cell_type": "markdown",
   "id": "847ade50",
   "metadata": {},
   "source": [
    "35. Prepare the training and test datasets"
   ]
  },
  {
   "cell_type": "code",
   "execution_count": 176,
   "id": "9d79d189",
   "metadata": {},
   "outputs": [
    {
     "data": {
      "text/plain": [
       "(169433, 8)"
      ]
     },
     "execution_count": 176,
     "metadata": {},
     "output_type": "execute_result"
    },
    {
     "data": {
      "text/plain": [
       "(83453, 8)"
      ]
     },
     "execution_count": 176,
     "metadata": {},
     "output_type": "execute_result"
    }
   ],
   "source": [
    "X_train, X_test, y_train, y_test = train_test_split(X, y, test_size=0.33, random_state=0)\n",
    "X_train.shape\n",
    "X_test.shape"
   ]
  },
  {
   "cell_type": "markdown",
   "id": "710e9e72",
   "metadata": {},
   "source": [
    "36. Train a Decision Tree regression model."
   ]
  },
  {
   "cell_type": "code",
   "execution_count": 177,
   "id": "06d31756",
   "metadata": {},
   "outputs": [
    {
     "data": {
      "text/html": [
       "<style>#sk-container-id-5 {color: black;}#sk-container-id-5 pre{padding: 0;}#sk-container-id-5 div.sk-toggleable {background-color: white;}#sk-container-id-5 label.sk-toggleable__label {cursor: pointer;display: block;width: 100%;margin-bottom: 0;padding: 0.3em;box-sizing: border-box;text-align: center;}#sk-container-id-5 label.sk-toggleable__label-arrow:before {content: \"▸\";float: left;margin-right: 0.25em;color: #696969;}#sk-container-id-5 label.sk-toggleable__label-arrow:hover:before {color: black;}#sk-container-id-5 div.sk-estimator:hover label.sk-toggleable__label-arrow:before {color: black;}#sk-container-id-5 div.sk-toggleable__content {max-height: 0;max-width: 0;overflow: hidden;text-align: left;background-color: #f0f8ff;}#sk-container-id-5 div.sk-toggleable__content pre {margin: 0.2em;color: black;border-radius: 0.25em;background-color: #f0f8ff;}#sk-container-id-5 input.sk-toggleable__control:checked~div.sk-toggleable__content {max-height: 200px;max-width: 100%;overflow: auto;}#sk-container-id-5 input.sk-toggleable__control:checked~label.sk-toggleable__label-arrow:before {content: \"▾\";}#sk-container-id-5 div.sk-estimator input.sk-toggleable__control:checked~label.sk-toggleable__label {background-color: #d4ebff;}#sk-container-id-5 div.sk-label input.sk-toggleable__control:checked~label.sk-toggleable__label {background-color: #d4ebff;}#sk-container-id-5 input.sk-hidden--visually {border: 0;clip: rect(1px 1px 1px 1px);clip: rect(1px, 1px, 1px, 1px);height: 1px;margin: -1px;overflow: hidden;padding: 0;position: absolute;width: 1px;}#sk-container-id-5 div.sk-estimator {font-family: monospace;background-color: #f0f8ff;border: 1px dotted black;border-radius: 0.25em;box-sizing: border-box;margin-bottom: 0.5em;}#sk-container-id-5 div.sk-estimator:hover {background-color: #d4ebff;}#sk-container-id-5 div.sk-parallel-item::after {content: \"\";width: 100%;border-bottom: 1px solid gray;flex-grow: 1;}#sk-container-id-5 div.sk-label:hover label.sk-toggleable__label {background-color: #d4ebff;}#sk-container-id-5 div.sk-serial::before {content: \"\";position: absolute;border-left: 1px solid gray;box-sizing: border-box;top: 0;bottom: 0;left: 50%;z-index: 0;}#sk-container-id-5 div.sk-serial {display: flex;flex-direction: column;align-items: center;background-color: white;padding-right: 0.2em;padding-left: 0.2em;position: relative;}#sk-container-id-5 div.sk-item {position: relative;z-index: 1;}#sk-container-id-5 div.sk-parallel {display: flex;align-items: stretch;justify-content: center;background-color: white;position: relative;}#sk-container-id-5 div.sk-item::before, #sk-container-id-5 div.sk-parallel-item::before {content: \"\";position: absolute;border-left: 1px solid gray;box-sizing: border-box;top: 0;bottom: 0;left: 50%;z-index: -1;}#sk-container-id-5 div.sk-parallel-item {display: flex;flex-direction: column;z-index: 1;position: relative;background-color: white;}#sk-container-id-5 div.sk-parallel-item:first-child::after {align-self: flex-end;width: 50%;}#sk-container-id-5 div.sk-parallel-item:last-child::after {align-self: flex-start;width: 50%;}#sk-container-id-5 div.sk-parallel-item:only-child::after {width: 0;}#sk-container-id-5 div.sk-dashed-wrapped {border: 1px dashed gray;margin: 0 0.4em 0.5em 0.4em;box-sizing: border-box;padding-bottom: 0.4em;background-color: white;}#sk-container-id-5 div.sk-label label {font-family: monospace;font-weight: bold;display: inline-block;line-height: 1.2em;}#sk-container-id-5 div.sk-label-container {text-align: center;}#sk-container-id-5 div.sk-container {/* jupyter's `normalize.less` sets `[hidden] { display: none; }` but bootstrap.min.css set `[hidden] { display: none !important; }` so we also need the `!important` here to be able to override the default hidden behavior on the sphinx rendered scikit-learn.org. See: https://github.com/scikit-learn/scikit-learn/issues/21755 */display: inline-block !important;position: relative;}#sk-container-id-5 div.sk-text-repr-fallback {display: none;}</style><div id=\"sk-container-id-5\" class=\"sk-top-container\"><div class=\"sk-text-repr-fallback\"><pre>DecisionTreeRegressor(max_depth=20)</pre><b>In a Jupyter environment, please rerun this cell to show the HTML representation or trust the notebook. <br />On GitHub, the HTML representation is unable to render, please try loading this page with nbviewer.org.</b></div><div class=\"sk-container\" hidden><div class=\"sk-item\"><div class=\"sk-estimator sk-toggleable\"><input class=\"sk-toggleable__control sk-hidden--visually\" id=\"sk-estimator-id-5\" type=\"checkbox\" checked><label for=\"sk-estimator-id-5\" class=\"sk-toggleable__label sk-toggleable__label-arrow\">DecisionTreeRegressor</label><div class=\"sk-toggleable__content\"><pre>DecisionTreeRegressor(max_depth=20)</pre></div></div></div></div></div>"
      ],
      "text/plain": [
       "DecisionTreeRegressor(max_depth=20)"
      ]
     },
     "execution_count": 177,
     "metadata": {},
     "output_type": "execute_result"
    }
   ],
   "source": [
    "regressorT = DecisionTreeRegressor(max_depth=20)\n",
    "regressorT.fit(X_train, y_train)"
   ]
  },
  {
   "cell_type": "markdown",
   "id": "16d7e840",
   "metadata": {},
   "source": [
    "37. Make predictions on the testing data."
   ]
  },
  {
   "cell_type": "code",
   "execution_count": 178,
   "id": "63bfb5dc",
   "metadata": {},
   "outputs": [],
   "source": [
    "y_predT = regressorT.predict(X_test)\n",
    "y_test_numeric = y_test.to_numpy()"
   ]
  },
  {
   "cell_type": "markdown",
   "id": "d5e881fa",
   "metadata": {},
   "source": [
    "38. Evaluate the model using RMSE"
   ]
  },
  {
   "cell_type": "code",
   "execution_count": 179,
   "id": "895366ae",
   "metadata": {},
   "outputs": [
    {
     "name": "stdout",
     "output_type": "stream",
     "text": [
      "Root Mean Squared Error: 6.613093397123416e-09\n"
     ]
    }
   ],
   "source": [
    "rmse = sqrt(mean_squared_error(y_test_numeric, y_predT))\n",
    "print(\"Root Mean Squared Error:\", rmse)"
   ]
  },
  {
   "cell_type": "code",
   "execution_count": 180,
   "id": "818290ae",
   "metadata": {},
   "outputs": [
    {
     "data": {
      "text/plain": [
       "count                         252886\n",
       "mean     -1 days +23:59:59.999999999\n",
       "std        0 days 00:00:00.000000006\n",
       "min      -1 days +23:59:59.999999977\n",
       "25%      -1 days +23:59:59.999999994\n",
       "50%      -1 days +23:59:59.999999998\n",
       "75%        0 days 00:00:00.000000003\n",
       "max        0 days 00:00:00.000000022\n",
       "Name: delivery_time, dtype: object"
      ]
     },
     "execution_count": 180,
     "metadata": {},
     "output_type": "execute_result"
    }
   ],
   "source": [
    "# To understand the RMSE, We check the statistics of the target variable.\n",
    "order_user['delivery_time'].describe()\n",
    "# It seems the mean is about 34 hours. With RMSE being about 27, \n",
    "# the prediction seems not very good.\n",
    "# If you are interested to explore more, you may try some other prediction methods to see \n",
    "# whether you can get better results."
   ]
  },
  {
   "cell_type": "code",
   "execution_count": 188,
   "id": "3b7bc828",
   "metadata": {},
   "outputs": [
    {
     "name": "stdout",
     "output_type": "stream",
     "text": [
      "Average processing time in days: 0.0\n",
      "Average processing time in hours: 5.804449389580023\n"
     ]
    }
   ],
   "source": [
    "#What is the average duration (ship_out_time) for packages to leave the warehouse once an\n",
    "#order is placed? Is there a big difference in processing times between 1P and 3P orders?\n",
    "\n",
    "# Calculate the difference\n",
    "merged_data_filtered_2['ProcessingTime'] = merged_data_filtered_2['ship_out_datetime'] - merged_data_filtered_2['order_datetime']\n",
    "\n",
    "# Calculate in days or hours\n",
    "merged_data_filtered_2['ProcessingTimeDays'] = merged_data_filtered_2['ProcessingTime'].dt.days\n",
    "merged_data_filtered_2['ProcessingTimeHours'] = merged_data_filtered_2['ProcessingTime'].dt.total_seconds() / 3600\n",
    "\n",
    "# Calculate average processing time\n",
    "avg_processing_time_days = merged_data_filtered_2['ProcessingTimeDays'].mean()\n",
    "avg_processing_time_hours = merged_data_filtered_2['ProcessingTimeHours'].mean()\n",
    "\n",
    "print(f\"Average processing time in days: {avg_processing_time_days}\")\n",
    "print(f\"Average processing time in hours: {avg_processing_time_hours}\")\n"
   ]
  }
 ],
 "metadata": {
  "kernelspec": {
   "display_name": "Python 3 (ipykernel)",
   "language": "python",
   "name": "python3"
  },
  "language_info": {
   "codemirror_mode": {
    "name": "ipython",
    "version": 3
   },
   "file_extension": ".py",
   "mimetype": "text/x-python",
   "name": "python",
   "nbconvert_exporter": "python",
   "pygments_lexer": "ipython3",
   "version": "3.11.5"
  }
 },
 "nbformat": 4,
 "nbformat_minor": 5
}
